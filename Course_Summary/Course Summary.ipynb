{
 "cells": [
  {
   "cell_type": "markdown",
   "metadata": {
    "cell_style": "center",
    "slideshow": {
     "slide_type": "slide"
    }
   },
   "source": [
    "# Data representation\n",
    "or Feature representation\n"
   ]
  },
  {
   "cell_type": "markdown",
   "metadata": {
    "cell_style": "center",
    "slideshow": {
     "slide_type": "subslide"
    }
   },
   "source": [
    "Use **Tensor** to represent features\n",
    "\n",
    "* Image: \n",
    "    * *flattened* vector\n",
    "    * 3D Tensor of size $H\\times W\\times K$\n",
    "\n",
    "* Text: \n",
    "    * one-hot vector\n",
    "    * count-based vector e.g. TF-iDF \n",
    "    * \"dense\" vector learnt from Text Embedding model e.g. Word2Vec, BERT\n",
    "\n",
    "* ..."
   ]
  },
  {
   "cell_type": "markdown",
   "metadata": {
    "cell_style": "center",
    "slideshow": {
     "slide_type": "slide"
    }
   },
   "source": [
    "# Machine Learning Models"
   ]
  },
  {
   "cell_type": "markdown",
   "metadata": {
    "cell_style": "split",
    "slideshow": {
     "slide_type": "fragment"
    }
   },
   "source": [
    "**Hypothesis function** - hàm giả thuyết  $\\hat{f}:\\mathcal{X}\\rightarrow\\mathcal{Y}$ được tham số hóa bằng $\\theta$ với giả sử\n",
    "* $\\hat{f}$ tuyến tính (theo $\\theta$) -> **Linear models**\n",
    "* $\\hat{f}$ biểu diễn bởi *Mạng nơ-ron* -> **DNN models**\n",
    "* ..."
   ]
  },
  {
   "cell_type": "markdown",
   "metadata": {
    "cell_style": "split",
    "slideshow": {
     "slide_type": ""
    }
   },
   "source": [
    "**Thuật toán học** - tìm các tham số $\\theta$ *chưa biết* của $\\hat{f}$ bằng cách\n",
    "* *tối thiểu hóa* **Hàm mục tiêu** $J\\left(\\theta;\\mathcal{D}_{\\left\\{X,Y\\right\\}}\\right)$ bằng thuật toán *Stochastic Gradient Descent - SGD* - hoặc biến thể\n",
    "* ..."
   ]
  },
  {
   "cell_type": "markdown",
   "metadata": {
    "slideshow": {
     "slide_type": "fragment"
    }
   },
   "source": [
    "<center><i>Quan trọng nhất</i> vẫn cần <b>Biểu diễn dữ liệu</b> i.e. <b>đặc trưng <i>đủ tốt</i></b></center>"
   ]
  },
  {
   "cell_type": "markdown",
   "metadata": {
    "cell_style": "center",
    "slideshow": {
     "slide_type": "slide"
    }
   },
   "source": [
    "## Linear Models"
   ]
  },
  {
   "cell_type": "markdown",
   "metadata": {
    "cell_style": "split",
    "slideshow": {
     "slide_type": ""
    }
   },
   "source": [
    "Good features\n",
    "![](media/linear_model_good.png)"
   ]
  },
  {
   "cell_type": "markdown",
   "metadata": {
    "cell_style": "split",
    "slideshow": {
     "slide_type": ""
    }
   },
   "source": [
    "Bad features\n",
    "![](media/linear_model_bad.png)"
   ]
  },
  {
   "cell_type": "markdown",
   "metadata": {
    "cell_style": "center",
    "slideshow": {
     "slide_type": "slide"
    }
   },
   "source": [
    "## DNN Models"
   ]
  },
  {
   "cell_type": "markdown",
   "metadata": {
    "cell_style": "center",
    "slideshow": {
     "slide_type": ""
    }
   },
   "source": [
    "<center><i>Automatic</i> feature extraction / Feature engineering by <b>architecture engineering</b></center>"
   ]
  },
  {
   "cell_type": "markdown",
   "metadata": {
    "cell_style": "split",
    "slideshow": {
     "slide_type": ""
    }
   },
   "source": [
    "![](media/DNN_shallow.png)"
   ]
  },
  {
   "cell_type": "markdown",
   "metadata": {
    "cell_style": "split",
    "slideshow": {
     "slide_type": ""
    }
   },
   "source": [
    "![](media/DNN_deep.png)"
   ]
  },
  {
   "cell_type": "markdown",
   "metadata": {
    "cell_style": "center",
    "slideshow": {
     "slide_type": "subslide"
    }
   },
   "source": [
    "### Architecture building blocks\n"
   ]
  },
  {
   "cell_type": "markdown",
   "metadata": {
    "cell_style": "split",
    "slideshow": {
     "slide_type": "-"
    }
   },
   "source": [
    "1. Non-linear activation"
   ]
  },
  {
   "cell_type": "markdown",
   "metadata": {
    "cell_style": "split"
   },
   "source": [
    "Sigmoid, Tanh, ReLU, Maxout, ..."
   ]
  },
  {
   "cell_type": "markdown",
   "metadata": {
    "cell_style": "split"
   },
   "source": [
    "2. Layers"
   ]
  },
  {
   "cell_type": "markdown",
   "metadata": {
    "cell_style": "split"
   },
   "source": [
    "* Fully-connected / Dense layers\n",
    "* Convolutional layers\n",
    "* Pooling layers"
   ]
  },
  {
   "cell_type": "markdown",
   "metadata": {
    "cell_style": "split"
   },
   "source": [
    "3. Skip connection / Residual connection"
   ]
  },
  {
   "cell_type": "markdown",
   "metadata": {
    "cell_style": "split"
   },
   "source": [
    "(vd. mô hình *ResNet* - Lec10)"
   ]
  },
  {
   "cell_type": "markdown",
   "metadata": {
    "cell_style": "split"
   },
   "source": [
    "4. Gated mechanism"
   ]
  },
  {
   "cell_type": "markdown",
   "metadata": {
    "cell_style": "split"
   },
   "source": [
    "(vd. *LSTM cells, GRU cells* - Lec13)"
   ]
  },
  {
   "cell_type": "markdown",
   "metadata": {
    "cell_style": "split"
   },
   "source": [
    "5. Attention mechanism"
   ]
  },
  {
   "cell_type": "markdown",
   "metadata": {
    "cell_style": "split"
   },
   "source": [
    "(vd. mô hình *Seq2Seq* - Lec14,15)"
   ]
  },
  {
   "cell_type": "markdown",
   "metadata": {
    "slideshow": {
     "slide_type": "subslide"
    }
   },
   "source": [
    "### Những lưu ý khi huấn luyện DNN"
   ]
  },
  {
   "cell_type": "markdown",
   "metadata": {},
   "source": [
    "* Khởi tạo tham số\n",
    "    * Không khởi tạo các trọng số $w$ bằng cùng một hằng số\n",
    "    * Nên sử dụng *He init* (2015) \n",
    "* Có thể sử dụng BatchNorm layers\n",
    "* Chống overfit:\n",
    "    * Sử dụng kỹ thuật Dropout\n",
    "    * Áp dụng transfer learning (nếu có thể) khi dữ liệu huấn luyện không nhiều\n",
    "    * Tăng cường dữ liệu huấn luyện - Data augmentation - nếu có thể\n",
    "    * Cross-validate trên 1+ tập development/validation set có đủ tính đại diện\n",
    "* Chống gradient exploding:\n",
    "    * clip giá trị gradient không vượt quá một ngưỡng giới hạn cho trước\n"
   ]
  },
  {
   "cell_type": "markdown",
   "metadata": {
    "cell_style": "center",
    "slideshow": {
     "slide_type": "slide"
    }
   },
   "source": [
    "# Các mô hình DNN ứng dụng trong một số bài toán Xử lý ảnh, Xử lý Ngôn ngữ tự nhiên"
   ]
  },
  {
   "cell_type": "markdown",
   "metadata": {
    "cell_style": "center",
    "slideshow": {
     "slide_type": "subslide"
    }
   },
   "source": [
    "## Các bài toán **\"hiểu\"** ảnh/văn bản"
   ]
  },
  {
   "cell_type": "markdown",
   "metadata": {
    "cell_style": "split",
    "slideshow": {
     "slide_type": ""
    }
   },
   "source": [
    "* *Image classifcation - \"Trong ảnh có gì?\"* vd. xe máy / ô tô / landmarks / ...(Assignment 1-3)  \n",
    "    * Mô hình *VGG, ResNet* (Lec10)\n",
    "   \n",
    "* *Object detection - \"Đối tượng ở vị trí nào trong ảnh?\"*\n",
    "    * Mô hình *YOLO, R-CNN*\n",
    "    \n",
    "* *Image segmentation*\n",
    "    * Mô hình *U-Net* - mô hình gồm 2 CNNs - downsampling và upsampling CNN\n",
    "    "
   ]
  },
  {
   "cell_type": "markdown",
   "metadata": {
    "cell_style": "split",
    "slideshow": {
     "slide_type": ""
    }
   },
   "source": [
    "* *Text classification - \"Bài báo này nói về chủ đề gì?\"* vd. Thể thao / Chính trị / ...  \n",
    "    * các mô hình CNN / RNN many-to-one \n",
    "* *Sentiment Analysis - \"Đoạn review này có ý khen hay chê?\"* (Assignment 4)\n",
    "    * các mô hình (bi-directional) RNN many-to-one "
   ]
  },
  {
   "cell_type": "markdown",
   "metadata": {
    "cell_style": "center",
    "slideshow": {
     "slide_type": ""
    }
   },
   "source": [
    "<center><i>Các mô hình trên đều được học trực tiếp bằng discriminative approach\n",
    "\n",
    "\n",
    "  "
   ]
  },
  {
   "cell_type": "markdown",
   "metadata": {
    "cell_style": "center",
    "slideshow": {
     "slide_type": "subslide"
    }
   },
   "source": [
    "## Các bài toán **\"sinh\"** ảnh/văn bản"
   ]
  },
  {
   "cell_type": "markdown",
   "metadata": {
    "cell_style": "split",
    "slideshow": {
     "slide_type": ""
    }
   },
   "source": [
    "* *(Machine) Translation - \"Dịch văn bản từ ngôn ngữ này sang ngôn ngữ khác*\" \n",
    "    * Mô hình Seq2Seq (Lec13-15) - là loại mô hình có 2 RNNs đóng vai trò Encoder và Decoder tương ứng"
   ]
  },
  {
   "cell_type": "markdown",
   "metadata": {
    "cell_style": "split",
    "slideshow": {
     "slide_type": ""
    }
   },
   "source": [
    "* *Image Translation - \"Sinh ảnh, dựa trên một ảnh hướng dẫn\"*\n",
    "    * Mô hình *U-Net* - 2 CNNs đóng vai trò Encoder và Decoder tương ứng, học bằng adversarial training\n",
    "   "
   ]
  },
  {
   "cell_type": "markdown",
   "metadata": {
    "cell_style": "center",
    "slideshow": {
     "slide_type": ""
    }
   },
   "source": [
    " ![](https://camo.githubusercontent.com/6f486f0501ce4eef6b6050a0acedee8664c718b8/68747470733a2f2f7068696c6c6970692e6769746875622e696f2f706978327069782f696d616765732f7465617365725f76332e706e67)"
   ]
  }
 ],
 "metadata": {
  "celltoolbar": "Slideshow",
  "jupytext": {
   "encoding": "# -*- coding: utf-8 -*-",
   "formats": "ipynb,py:percent"
  },
  "kernelspec": {
   "display_name": "Python 3",
   "language": "python",
   "name": "python3"
  },
  "language_info": {
   "codemirror_mode": {
    "name": "ipython",
    "version": 3
   },
   "file_extension": ".py",
   "mimetype": "text/x-python",
   "name": "python",
   "nbconvert_exporter": "python",
   "pygments_lexer": "ipython3",
   "version": "3.7.3"
  },
  "rise": {
   "enable_chalkboard": true
  }
 },
 "nbformat": 4,
 "nbformat_minor": 2
}
