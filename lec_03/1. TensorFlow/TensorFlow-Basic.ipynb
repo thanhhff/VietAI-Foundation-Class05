{
 "cells": [
  {
   "cell_type": "code",
   "execution_count": null,
   "metadata": {},
   "outputs": [],
   "source": [
    "import tensorflow as tf"
   ]
  },
  {
   "cell_type": "code",
   "execution_count": null,
   "metadata": {},
   "outputs": [],
   "source": [
    "two_node = tf.constant(2)\n",
    "three_node = tf.constant(3)\n",
    "sum_node = two_node + three_node"
   ]
  },
  {
   "cell_type": "code",
   "execution_count": null,
   "metadata": {},
   "outputs": [],
   "source": [
    "sess = tf.Session()\n",
    "print(sess.run(sum_node))"
   ]
  },
  {
   "cell_type": "markdown",
   "metadata": {},
   "source": [
    "Placeholders & feed dict\n",
    "\n",
    "Giúp đưa dữ liệu đầu vào (input) vào chương trình"
   ]
  },
  {
   "cell_type": "code",
   "execution_count": null,
   "metadata": {},
   "outputs": [],
   "source": [
    "input_placeholder = tf.placeholder(tf.int32)\n",
    "node_three = tf.constant(3)\n",
    "\n",
    "sum_node = input_placeholder + node_three ## equivalent to tf.add(two_node, three_node)\n",
    "\n",
    "sess = tf.Session()\n",
    "print(sess.run(sum_node, feed_dict={input_placeholder: 2}))"
   ]
  },
  {
   "cell_type": "markdown",
   "metadata": {},
   "source": [
    "So sanh giua Numpy va Tensorflow"
   ]
  },
  {
   "cell_type": "code",
   "execution_count": null,
   "metadata": {},
   "outputs": [],
   "source": [
    "import numpy as np\n",
    "a = np.zeros((2,2)); b = np.ones((2,2))\n",
    "\n",
    "print(a)\n",
    "print(np.sum(b, axis=1))\n"
   ]
  },
  {
   "cell_type": "code",
   "execution_count": null,
   "metadata": {},
   "outputs": [],
   "source": [
    "print(a.shape)\n",
    "\n",
    "print(np.reshape(a, (1,4)))"
   ]
  },
  {
   "cell_type": "code",
   "execution_count": null,
   "metadata": {},
   "outputs": [],
   "source": [
    "# Cach viet mac dinh session mo trong python\n",
    "tf.InteractiveSession()\n",
    "\n",
    "a = tf.zeros((2,2))\n",
    "b = tf.ones((2,2)) # b = np.array([[1,2], [3,4]])\n",
    "print(tf.reduce_sum(b, reduction_indices = 1).eval())\n",
    "\n",
    "print(a.get_shape())\n",
    "print(tf.reshape(a, (-1,4)).eval())"
   ]
  },
  {
   "cell_type": "markdown",
   "metadata": {},
   "source": [
    "### Viết chương trình theo Tensorlfow\n",
    "Cài đặt chương trình theo hàm cost\n",
    "\n",
    "Tìm giá trị nhỏ nhất của hàm số sau:\n",
    "\n",
    "J(w) = w^2 - 10w + 25\n",
    "\n",
    "Thực hiện tuần tự các bước sau:\n",
    "\n",
    "Khởi tạo biến\n",
    "Bắt đầu session\n",
    "Giải thuật\n",
    "Close session"
   ]
  },
  {
   "cell_type": "code",
   "execution_count": 1,
   "metadata": {},
   "outputs": [
    {
     "name": "stdout",
     "output_type": "stream",
     "text": [
      "tf.Tensor(5, shape=(), dtype=int32)\n"
     ]
    }
   ],
   "source": [
    "import tensorflow as tf\n",
    "tf.enable_eager_execution()\n",
    "\n",
    "node_two = tf.constant(2)\n",
    "node_three = tf.constant(3)\n",
    "sum_node = node_two + node_three\n",
    "print(sum_node)"
   ]
  },
  {
   "cell_type": "code",
   "execution_count": null,
   "metadata": {},
   "outputs": [],
   "source": []
  }
 ],
 "metadata": {
  "kernelspec": {
   "display_name": "Python 3",
   "language": "python",
   "name": "python3"
  },
  "language_info": {
   "codemirror_mode": {
    "name": "ipython",
    "version": 3
   },
   "file_extension": ".py",
   "mimetype": "text/x-python",
   "name": "python",
   "nbconvert_exporter": "python",
   "pygments_lexer": "ipython3",
   "version": "3.7.3"
  }
 },
 "nbformat": 4,
 "nbformat_minor": 2
}
