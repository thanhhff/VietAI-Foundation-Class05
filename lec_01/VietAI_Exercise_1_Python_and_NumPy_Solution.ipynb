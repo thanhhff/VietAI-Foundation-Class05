{
  "nbformat": 4,
  "nbformat_minor": 0,
  "metadata": {
    "colab": {
      "name": "VietAI - Exercise 1 - Python and NumPy - Solution.ipynb",
      "provenance": []
    },
    "kernelspec": {
      "name": "python3",
      "display_name": "Python 3"
    }
  },
  "cells": [
    {
      "cell_type": "markdown",
      "metadata": {
        "id": "qqt68kkY09wo",
        "colab_type": "text"
      },
      "source": [
        "# Bài 1: welcome_new_friend\n",
        "https://app.codesignal.com/challenge/w5ABRptfFip9anpTk"
      ]
    },
    {
      "cell_type": "code",
      "metadata": {
        "id": "wW9Q_07Y052I",
        "colab_type": "code",
        "colab": {}
      },
      "source": [
        "def welcome_new_friend(name):\n",
        "    # Init\n",
        "    hello_string = \"Hello \"+name\n",
        "    if name.lower()[0] == name.lower()[-1]:\n",
        "        hello_string += \", you have a special name\"\n",
        "    return hello_string"
      ],
      "execution_count": 0,
      "outputs": []
    },
    {
      "cell_type": "markdown",
      "metadata": {
        "id": "EtJ0ZAJL1L9i",
        "colab_type": "text"
      },
      "source": [
        "# Bài 2: rectangle_info\n",
        "https://app.codesignal.com/challenge/n7zukAfPrQLtrwsvs"
      ]
    },
    {
      "cell_type": "code",
      "metadata": {
        "id": "frXpqkzq1Qa-",
        "colab_type": "code",
        "colab": {}
      },
      "source": [
        "def rectangle_info(a):\n",
        "    chieudai = max(a[0], a[1])\n",
        "    chieurong = min(a[0],a[1])\n",
        "    rectangle = {\"chieu dai\": chieudai, \"chieu rong\": chieurong, \"chu vi\": (a[0]+a[1])*2, \"dien tich\": a[0]*a[1]}\n",
        "    return str(rectangle)"
      ],
      "execution_count": 0,
      "outputs": []
    },
    {
      "cell_type": "markdown",
      "metadata": {
        "id": "YY7kNxoC1adZ",
        "colab_type": "text"
      },
      "source": [
        "# Bài 3: create_square_dict\n",
        "https://app.codesignal.com/challenge/gZjxPsxYxnWud6ghu"
      ]
    },
    {
      "cell_type": "code",
      "metadata": {
        "id": "n0634nXE1d3O",
        "colab_type": "code",
        "colab": {}
      },
      "source": [
        "def create_square_dict(n):\n",
        "    square_dict = {x: x**2 for x in range(1,n+1)}\n",
        "    return str(square_dict)"
      ],
      "execution_count": 0,
      "outputs": []
    },
    {
      "cell_type": "markdown",
      "metadata": {
        "id": "2mLCz_Qt1jLE",
        "colab_type": "text"
      },
      "source": [
        "# Bài 4: funny_list\n",
        "https://app.codesignal.com/challenge/FiejrYhmwsMPfNTTd"
      ]
    },
    {
      "cell_type": "code",
      "metadata": {
        "id": "rsCfTXWv1n71",
        "colab_type": "code",
        "colab": {}
      },
      "source": [
        "def funny_list(a):\n",
        "    b = []\n",
        "    for index, number in enumerate(a):\n",
        "        value = \"\"\n",
        "        if number % 6 == 0 and number % 9 == 0:\n",
        "            return b\n",
        "        if number % 3 == 0:\n",
        "            value = \"multiple\"\n",
        "        elif number % 2 == 0:\n",
        "            value = \"even\" \n",
        "        else:\n",
        "            value = \"odd\"\n",
        "        value = \"{}-{}\".format(index,value)\n",
        "        b.append(value)\n",
        "    return b\n"
      ],
      "execution_count": 0,
      "outputs": []
    },
    {
      "cell_type": "markdown",
      "metadata": {
        "id": "v3EnV_Al1xtc",
        "colab_type": "text"
      },
      "source": [
        "# Bài 5: inner_product_two_vec\n",
        "https://app.codesignal.com/challenge/82kvackA8MwjZXuai"
      ]
    },
    {
      "cell_type": "code",
      "metadata": {
        "id": "qhPMYX9a11Rb",
        "colab_type": "code",
        "colab": {}
      },
      "source": [
        "def inner_product_two_vec(a, b):\n",
        "    return numpy.array(a).dot(b)"
      ],
      "execution_count": 0,
      "outputs": []
    },
    {
      "cell_type": "markdown",
      "metadata": {
        "id": "0ZkBdj2t2FkA",
        "colab_type": "text"
      },
      "source": [
        "# Bài 6: dot_xTw\n",
        "https://app.codesignal.com/challenge/HtTCFQeFRxjbgXB59"
      ]
    },
    {
      "cell_type": "code",
      "metadata": {
        "id": "duaGCV1s2Q6q",
        "colab_type": "code",
        "colab": {}
      },
      "source": [
        "def dot_xTw(x, w):\n",
        "    x = numpy.array(x)\n",
        "    w = numpy.array(w)\n",
        "    if x.shape[0] != w.shape[0]:\n",
        "        return \"\"\n",
        "    return str(x.T.dot(w))"
      ],
      "execution_count": 0,
      "outputs": []
    },
    {
      "cell_type": "markdown",
      "metadata": {
        "id": "CR5OOF9w2YDT",
        "colab_type": "text"
      },
      "source": [
        "# Bài 7: solve_g_xw\n",
        "https://app.codesignal.com/challenge/7EdWBHq84jbZPs3F5"
      ]
    },
    {
      "cell_type": "code",
      "metadata": {
        "id": "bg4IIECc2df5",
        "colab_type": "code",
        "colab": {}
      },
      "source": [
        "def g_xw(x, w):\n",
        "    x = numpy.array(x)\n",
        "    w = numpy.array(w)\n",
        "    m = None\n",
        "    try:\n",
        "        m = 2 * (x.T + w).T\n",
        "    except:\n",
        "        return \"\"\n",
        "    return str(m)"
      ],
      "execution_count": 0,
      "outputs": []
    },
    {
      "cell_type": "markdown",
      "metadata": {
        "id": "byMWXOte2tPv",
        "colab_type": "text"
      },
      "source": [
        "# Bài 8: get_x_row\n",
        "https://app.codesignal.com/challenge/gADowqwS9FbEkQnFJ"
      ]
    },
    {
      "cell_type": "code",
      "metadata": {
        "id": "d5Ixb-qm2wRl",
        "colab_type": "code",
        "colab": {}
      },
      "source": [
        "def get_x_row(a):\n",
        "    a = numpy.array(a)\n",
        "    b = numpy.reshape(a[:,0],(1,-1))\n",
        "    c = numpy.sum(a == b.T, axis=1)\n",
        "    return a[c==3,:].tolist()"
      ],
      "execution_count": 0,
      "outputs": []
    },
    {
      "cell_type": "markdown",
      "metadata": {
        "id": "hOiPZ7J826TL",
        "colab_type": "text"
      },
      "source": [
        "# Bài 9: get_n_max_element\n",
        "https://app.codesignal.com/challenge/yR9nPrj7ii5rtgKC5"
      ]
    },
    {
      "cell_type": "code",
      "metadata": {
        "id": "f6X_H6SL3A0p",
        "colab_type": "code",
        "colab": {}
      },
      "source": [
        "def get_n_max_element(a, n):\n",
        "    a = numpy.array(a)\n",
        "    return a[numpy.argpartition(a,range(a.shape[0]))][-n:][::-1].tolist()"
      ],
      "execution_count": 0,
      "outputs": []
    },
    {
      "cell_type": "markdown",
      "metadata": {
        "id": "cAsXeDEU3G2w",
        "colab_type": "text"
      },
      "source": [
        "# Bài 10: add_vector_to_column_matrix\n",
        "https://app.codesignal.com/challenge/iw86vKMLuzgMCCuHs"
      ]
    },
    {
      "cell_type": "code",
      "metadata": {
        "id": "Zoiprtos3KUZ",
        "colab_type": "code",
        "colab": {}
      },
      "source": [
        "def add_vector_to_column_matrix(x, w):\n",
        "    x = numpy.array(x)\n",
        "    w = numpy.array(w)\n",
        "    if x.shape[0] != w.shape[0]:\n",
        "        return \"\"\n",
        "    return str((x.T + w).T)\n",
        "\n"
      ],
      "execution_count": 0,
      "outputs": []
    }
  ]
}