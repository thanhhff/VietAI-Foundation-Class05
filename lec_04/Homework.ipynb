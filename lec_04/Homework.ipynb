{
 "cells": [
  {
   "cell_type": "markdown",
   "metadata": {},
   "source": [
    "# The Cobb-Douglas function\n",
    "\n",
    "P(L, K) = b* L^a * K^(1-a)\n",
    "\n",
    "P: total production\n",
    "\n",
    "L: labor input\n",
    "\n",
    "K: capital input\n",
    "\n",
    "b: total factor productivity\n",
    "\n",
    "a: the output elasticties of labor\n",
    "\n",
    "\n",
    "Question: Find a and b"
   ]
  },
  {
   "cell_type": "markdown",
   "metadata": {},
   "source": [
    "| Year | P | L | K |\n",
    "|------|------|------|------|\n",
    "|1899|100|100|100|\n",
    "|1900|101|105|107|\n",
    "|1901|112|110|114|\n",
    "|1902|122|117|122|\n",
    "|1903|124|122|131|\n",
    "|1904|122|121|138|\n",
    "|1905|143|125|149|\n",
    "|1906|152|134|163|\n",
    "|1907|151|140|176|\n",
    "|1908|126|123|185|\n",
    "|1909|155|143|198|\n",
    "|1910|159|147|208|\n",
    "|1911|153|148|216|\n",
    "|1912|177|155|226|\n",
    "|1913|184|156|236|\n",
    "|1914|169|152|244|\n",
    "|1915|189|156|266|\n",
    "|1916|225|183|298|\n",
    "|1917|227|198|335|\n",
    "|1918|223|201|366|\n",
    "|1919|218|196|387|\n",
    "|1920|231|194|407|\n",
    "|1921|179|146|417|\n",
    "|1922|240|161|431|\n"
   ]
  },
  {
   "cell_type": "markdown",
   "metadata": {},
   "source": [
    "log(P) = log(b) + a*log(L) + (1 - a)*log(K) = log(b) + (log(L) - log(K))*a + log(K)\n",
    "\n",
    "=> log(P) - log(K) = [1, log(L) - log(K)] * [log(b), a].T\n",
    "\n",
    "Y = log(P) - log(K)\n",
    "\n",
    "X = [1, log(L) - log(K)].T\n",
    "\n",
    "theta = [log(b), a].T"
   ]
  },
  {
   "cell_type": "code",
   "execution_count": 19,
   "metadata": {},
   "outputs": [],
   "source": [
    " # utils function\n",
    "def plot_polynomial(xmin, xmax, coef, color='C1'):\n",
    "    #xs is an array of evenly spaced numbers between xmin and xmax\n",
    "    xs = np.linspace(xmin, xmax, num=500)\n",
    "    \n",
    "    #ys is an array, each element is computed as a polynomial function of\n",
    "    #the corresponding element of xs\n",
    "    ys = np.zeros_like(xs)\n",
    "    for p, c in enumerate(coef.flatten()):\n",
    "        ys += c*np.power(xs, p)\n",
    "    plt.plot(xs, ys, color=color)"
   ]
  },
  {
   "cell_type": "code",
   "execution_count": 20,
   "metadata": {},
   "outputs": [],
   "source": [
    "# Import data\n",
    "import numpy as np\n",
    "\n",
    "P = np.array([[100], [101], [112], [122], [124], [122], [143], [152], [151], [126], [155], [159], [153], [177], [184], [169], [189], [225], [227], [223], [218], [231], [179], [240]])\n",
    "L = np.array([[100], [105], [110], [117], [122], [121], [125], [134], [140], [123], [143], [147], [148], [155], [156], [152], [156], [183], [198], [201], [196], [194], [146], [161]])\n",
    "K = np.array([[100], [107], [114], [122], [131], [138], [149], [163], [176], [185], [198], [208], [216], [226], [236], [244], [266], [298], [335], [366], [387], [407], [417], [431]])\n"
   ]
  },
  {
   "cell_type": "code",
   "execution_count": 22,
   "metadata": {},
   "outputs": [],
   "source": [
    "Y = np.log(P) - np.log(K)\n",
    "X = np.concatenate((np.ones_like(L), np.log(L) - np.log(K)), axis=1)"
   ]
  },
  {
   "cell_type": "code",
   "execution_count": 23,
   "metadata": {},
   "outputs": [
    {
     "data": {
      "text/plain": [
       "array([[ 1.        ,  0.        ],\n",
       "       [ 1.        , -0.01886848],\n",
       "       [ 1.        , -0.03571808],\n",
       "       [ 1.        , -0.04184711],\n",
       "       [ 1.        , -0.07117628],\n",
       "       [ 1.        , -0.13146314],\n",
       "       [ 1.        , -0.17563257],\n",
       "       [ 1.        , -0.1959104 ],\n",
       "       [ 1.        , -0.22884157],\n",
       "       [ 1.        , -0.40817147],\n",
       "       [ 1.        , -0.3254224 ],\n",
       "       [ 1.        , -0.34710549],\n",
       "       [ 1.        , -0.37806613],\n",
       "       [ 1.        , -0.37710988],\n",
       "       [ 1.        , -0.4139758 ],\n",
       "       [ 1.        , -0.4732877 ],\n",
       "       [ 1.        , -0.5336403 ],\n",
       "       [ 1.        , -0.48760733],\n",
       "       [ 1.        , -0.5258635 ],\n",
       "       [ 1.        , -0.59932843],\n",
       "       [ 1.        , -0.68031003],\n",
       "       [ 1.        , -0.74095503],\n",
       "       [ 1.        , -1.0494796 ],\n",
       "       [ 1.        , -0.98470373]])"
      ]
     },
     "execution_count": 23,
     "metadata": {},
     "output_type": "execute_result"
    }
   ],
   "source": [
    "X"
   ]
  },
  {
   "cell_type": "code",
   "execution_count": 24,
   "metadata": {},
   "outputs": [
    {
     "data": {
      "text/plain": [
       "array([[ 0.        ],\n",
       "       [-0.05770832],\n",
       "       [-0.01769958],\n",
       "       [ 0.        ],\n",
       "       [-0.05491576],\n",
       "       [-0.12323264],\n",
       "       [-0.04110168],\n",
       "       [-0.06986968],\n",
       "       [-0.15320416],\n",
       "       [-0.38407392],\n",
       "       [-0.24484191],\n",
       "       [-0.26863388],\n",
       "       [-0.34484049],\n",
       "       [-0.24438527],\n",
       "       [-0.24889605],\n",
       "       [-0.36726951],\n",
       "       [-0.34174929],\n",
       "       [-0.28099308],\n",
       "       [-0.38918051],\n",
       "       [-0.49546156],\n",
       "       [-0.57392963],\n",
       "       [-0.56639547],\n",
       "       [-0.84570042],\n",
       "       [-0.58546917]])"
      ]
     },
     "execution_count": 24,
     "metadata": {},
     "output_type": "execute_result"
    }
   ],
   "source": [
    "Y"
   ]
  },
  {
   "cell_type": "markdown",
   "metadata": {},
   "source": [
    "## Normal equation"
   ]
  },
  {
   "cell_type": "code",
   "execution_count": 47,
   "metadata": {},
   "outputs": [
    {
     "data": {
      "text/plain": [
       "array([[0.00704403],\n",
       "       [0.74460624]])"
      ]
     },
     "execution_count": 47,
     "metadata": {},
     "output_type": "execute_result"
    }
   ],
   "source": [
    "theta = np.linalg.inv(X.T.dot(X)).dot(X.T.dot(Y))\n",
    "theta"
   ]
  },
  {
   "cell_type": "code",
   "execution_count": 48,
   "metadata": {},
   "outputs": [
    {
     "data": {
      "text/plain": [
       "array([0.74460624])"
      ]
     },
     "execution_count": 48,
     "metadata": {},
     "output_type": "execute_result"
    }
   ],
   "source": [
    "a = theta[1]\n",
    "a\n"
   ]
  },
  {
   "cell_type": "code",
   "execution_count": 49,
   "metadata": {},
   "outputs": [
    {
     "data": {
      "text/plain": [
       "array([1.0070689])"
      ]
     },
     "execution_count": 49,
     "metadata": {},
     "output_type": "execute_result"
    }
   ],
   "source": [
    "b = np.exp(theta[0])\n",
    "b"
   ]
  },
  {
   "cell_type": "code",
   "execution_count": 28,
   "metadata": {},
   "outputs": [
    {
     "data": {
      "text/plain": [
       "array([[100.70688978],\n",
       "       [106.25302453],\n",
       "       [111.79273444],\n",
       "       [119.09308995],\n",
       "       [125.11621838],\n",
       "       [126.01607036],\n",
       "       [131.65873444],\n",
       "       [141.87099008],\n",
       "       [149.4753001 ],\n",
       "       [137.47922736],\n",
       "       [156.49115814],\n",
       "       [161.76185033],\n",
       "       [164.15515299],\n",
       "       [171.87726696],\n",
       "       [174.62256494],\n",
       "       [172.74202169],\n",
       "       [180.04169096],\n",
       "       [208.73427955],\n",
       "       [228.0610412 ],\n",
       "       [235.90134271],\n",
       "       [234.84028079],\n",
       "       [236.07215017],\n",
       "       [192.22781265],\n",
       "       [208.49927873]])"
      ]
     },
     "execution_count": 28,
     "metadata": {},
     "output_type": "execute_result"
    }
   ],
   "source": [
    "TMP = b * (L**a) * (K**(1-a))\n",
    "TMP"
   ]
  },
  {
   "cell_type": "markdown",
   "metadata": {},
   "source": [
    "## Gradient descent"
   ]
  },
  {
   "cell_type": "code",
   "execution_count": 34,
   "metadata": {},
   "outputs": [
    {
     "data": {
      "text/plain": [
       "24"
      ]
     },
     "execution_count": 34,
     "metadata": {},
     "output_type": "execute_result"
    }
   ],
   "source": [
    "m = X.shape[0]\n",
    "m"
   ]
  },
  {
   "cell_type": "code",
   "execution_count": 65,
   "metadata": {},
   "outputs": [],
   "source": [
    "alpha = 0.1"
   ]
  },
  {
   "cell_type": "code",
   "execution_count": 87,
   "metadata": {},
   "outputs": [],
   "source": [
    "def gradient_loss(X, Y, theta, m):\n",
    "    return 1/m * X.T.dot(X.dot(theta) - Y)\n",
    "\n",
    "def loss(X, Y, theta, m):\n",
    "    return 1/(2*m) * np.sum((X.dot(theta) - Y)**2)"
   ]
  },
  {
   "cell_type": "code",
   "execution_count": 88,
   "metadata": {},
   "outputs": [
    {
     "data": {
      "text/plain": [
       "array([[-0.00955277],\n",
       "       [-2.78409576]])"
      ]
     },
     "execution_count": 88,
     "metadata": {},
     "output_type": "execute_result"
    }
   ],
   "source": [
    "np.random.seed = 0.123\n",
    "theta_2 = np.random.normal(size=2).reshape([2, 1])\n",
    "theta_2"
   ]
  },
  {
   "cell_type": "code",
   "execution_count": 89,
   "metadata": {},
   "outputs": [],
   "source": [
    "i = 0\n",
    "for i in range(100000):\n",
    "    grad = gradient_loss(X, Y, theta_2, m)\n",
    "    theta_2 = theta_2 - alpha * grad\n",
    "    if np.linalg.norm(grad)/m < 1e-10:\n",
    "        break"
   ]
  },
  {
   "cell_type": "code",
   "execution_count": 90,
   "metadata": {},
   "outputs": [
    {
     "data": {
      "text/plain": [
       "array([[0.00704402],\n",
       "       [0.74460621]])"
      ]
     },
     "execution_count": 90,
     "metadata": {},
     "output_type": "execute_result"
    }
   ],
   "source": [
    "theta_2"
   ]
  },
  {
   "cell_type": "code",
   "execution_count": 91,
   "metadata": {},
   "outputs": [
    {
     "data": {
      "text/plain": [
       "2655"
      ]
     },
     "execution_count": 91,
     "metadata": {},
     "output_type": "execute_result"
    }
   ],
   "source": [
    "i"
   ]
  },
  {
   "cell_type": "code",
   "execution_count": 92,
   "metadata": {},
   "outputs": [
    {
     "data": {
      "text/plain": [
       "0.0015646996868779886"
      ]
     },
     "execution_count": 92,
     "metadata": {},
     "output_type": "execute_result"
    }
   ],
   "source": [
    "loss(X, Y, theta_2, m)"
   ]
  },
  {
   "cell_type": "code",
   "execution_count": 93,
   "metadata": {},
   "outputs": [
    {
     "data": {
      "text/plain": [
       "array([0.74460621])"
      ]
     },
     "execution_count": 93,
     "metadata": {},
     "output_type": "execute_result"
    }
   ],
   "source": [
    "a_2 = theta_2[1]\n",
    "a_2"
   ]
  },
  {
   "cell_type": "code",
   "execution_count": 94,
   "metadata": {},
   "outputs": [
    {
     "data": {
      "text/plain": [
       "array([1.00706888])"
      ]
     },
     "execution_count": 94,
     "metadata": {},
     "output_type": "execute_result"
    }
   ],
   "source": [
    "b_2 = np.exp(theta_2[0])\n",
    "b_2"
   ]
  }
 ],
 "metadata": {
  "kernelspec": {
   "display_name": "Python 3",
   "language": "python",
   "name": "python3"
  },
  "language_info": {
   "codemirror_mode": {
    "name": "ipython",
    "version": 3
   },
   "file_extension": ".py",
   "mimetype": "text/x-python",
   "name": "python",
   "nbconvert_exporter": "python",
   "pygments_lexer": "ipython3",
   "version": "3.6.7"
  }
 },
 "nbformat": 4,
 "nbformat_minor": 2
}
