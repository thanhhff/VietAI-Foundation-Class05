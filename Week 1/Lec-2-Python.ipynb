{
 "cells": [
  {
   "cell_type": "code",
   "execution_count": 1,
   "metadata": {},
   "outputs": [
    {
     "name": "stdout",
     "output_type": "stream",
     "text": [
      "<class 'int'>\n",
      "3\n",
      "4\n",
      "2\n",
      "6\n",
      "9\n",
      "4\n",
      "8\n",
      "8 13 16 64\n"
     ]
    }
   ],
   "source": [
    "x = 3\n",
    "print(type(x))\n",
    "print(x)\n",
    "print(x + 1)\n",
    "print(x - 1)\n",
    "print(x * 2)\n",
    "print(x ** 2)\n",
    "x += 1\n",
    "print(x)\n",
    "x *= 2\n",
    "print(x)\n",
    "print(x, x + 5, x * 2, x ** 2)"
   ]
  },
  {
   "cell_type": "code",
   "execution_count": 2,
   "metadata": {},
   "outputs": [
    {
     "name": "stdout",
     "output_type": "stream",
     "text": [
      "<class 'bool'>\n",
      "False\n",
      "True\n",
      "False\n",
      "True\n"
     ]
    }
   ],
   "source": [
    "t = True\n",
    "f = False\n",
    "print(type(t))\n",
    "print(t and f)\n",
    "print(t or f)\n",
    "print(not t)\n",
    "print(t != f)"
   ]
  },
  {
   "cell_type": "code",
   "execution_count": 3,
   "metadata": {},
   "outputs": [
    {
     "name": "stdout",
     "output_type": "stream",
     "text": [
      "hello\n",
      "world\n",
      "helloworld\n",
      "hello world 2019\n",
      "world hello 168.12\n"
     ]
    }
   ],
   "source": [
    "hello = 'hello'\n",
    "world = 'world'\n",
    "print(hello)\n",
    "print(world)\n",
    "hw = hello + world\n",
    "print(hw)\n",
    "hw2019 = \"%s %s %.0f\" % (hello, world, 2019.123)\n",
    "print(hw2019)\n",
    "print(\"{1} {0} {2:0.2f}\".format(hello, world, 168.123))"
   ]
  },
  {
   "cell_type": "code",
   "execution_count": 4,
   "metadata": {},
   "outputs": [
    {
     "name": "stdout",
     "output_type": "stream",
     "text": [
      "Hello world\n",
      "HELLO WORLD\n",
      "|    hello world|\n",
      "|--hello world--|\n",
      "heLLo worLd\n",
      "|   hello world   |, |hello world|\n"
     ]
    }
   ],
   "source": [
    "s = 'hello world'\n",
    "print(s.capitalize())\n",
    "print(s.upper())\n",
    "print(\"|{}|\".format(s.rjust(15)))\n",
    "print(\"|{}|\".format(s.center(15, '-')))\n",
    "print(s.replace('l', \"L\"))\n",
    "s_space = \"   hello world   \"\n",
    "print(\"|{}|, |{}|\".format(s_space, s_space.strip()))"
   ]
  },
  {
   "cell_type": "code",
   "execution_count": 5,
   "metadata": {},
   "outputs": [
    {
     "name": "stdout",
     "output_type": "stream",
     "text": [
      "[3, 2, 1] 1\n",
      "1\n",
      "[3, 2, 'foo']\n",
      "[3, 2, 'foo', 'bar']\n",
      "bar [3, 2, 'foo']\n"
     ]
    }
   ],
   "source": [
    "xs = [3, 2, 1]\n",
    "print(xs, xs[2])\n",
    "print(xs[-1])\n",
    "xs[2] = 'foo'\n",
    "print(xs)\n",
    "xs.append('bar')\n",
    "print(xs)\n",
    "x = xs.pop()\n",
    "print(x, xs)"
   ]
  },
  {
   "cell_type": "code",
   "execution_count": 6,
   "metadata": {},
   "outputs": [
    {
     "name": "stdout",
     "output_type": "stream",
     "text": [
      "[0, 1, 2, 3, 4, 5]\n",
      "[2, 3]\n",
      "[2, 3, 4, 5]\n",
      "[0, 1]\n",
      "[0, 1, 2, 3, 4, 5]\n",
      "[0, 1, 2, 3, 4]\n",
      "[0, 1, 8, 9, 10, 4, 5]\n"
     ]
    }
   ],
   "source": [
    "nums = [0,1,2,3,4,5]\n",
    "print(nums)\n",
    "print(nums[2:4])\n",
    "print(nums[2:])\n",
    "print(nums[:2])\n",
    "print(nums[:])\n",
    "print(nums[:-1])\n",
    "nums[2:4] = [8, 9, 10]\n",
    "print(nums)"
   ]
  },
  {
   "cell_type": "code",
   "execution_count": 7,
   "metadata": {},
   "outputs": [
    {
     "name": "stdout",
     "output_type": "stream",
     "text": [
      "cute\n",
      "True\n",
      "False\n",
      "wet\n",
      "None\n",
      "cute\n",
      "N/A\n",
      "{'cat': 'cute', 'dog': 'furry', 'fish': 'wet'}\n"
     ]
    }
   ],
   "source": [
    "d = {'cat': 'cute', 'dog': 'furry'}\n",
    "print(d['cat'])\n",
    "print('cat' in d)\n",
    "\n",
    "# Not key\n",
    "print('cute' in d)\n",
    "\n",
    "d['fish'] = 'wet'\n",
    "print(d['fish'])\n",
    "\n",
    "# Nen dung get tranh loi khi dict khong co phan tu can tim \n",
    "print(d.get('rat'))\n",
    "print(d.get('cat'))\n",
    "\n",
    "print(d.get('monkey', 'N/A'))\n",
    "\n",
    "print(d)\n",
    "\n",
    "# print(d['monkey'])"
   ]
  },
  {
   "cell_type": "code",
   "execution_count": 8,
   "metadata": {},
   "outputs": [
    {
     "name": "stdout",
     "output_type": "stream",
     "text": [
      "True\n",
      "False\n",
      "True\n",
      "3\n",
      "3\n",
      "2\n",
      "{'dog', 'fish'}\n"
     ]
    }
   ],
   "source": [
    "# set\n",
    "animals = {'cat', 'dog'}\n",
    "\n",
    "print('cat' in animals)\n",
    "print('fish' in animals)\n",
    "\n",
    "animals.add('fish')\n",
    "print('fish' in animals)\n",
    "print(len(animals))\n",
    "animals.add('cat')\n",
    "print(len(animals))\n",
    "animals.remove('cat')\n",
    "print(len(animals))\n",
    "\n",
    "print(animals)"
   ]
  },
  {
   "cell_type": "code",
   "execution_count": 9,
   "metadata": {},
   "outputs": [
    {
     "name": "stdout",
     "output_type": "stream",
     "text": [
      "<class 'tuple'>\n",
      "(5, 6, 7, 8) 5\n",
      "(5, 6)\n"
     ]
    }
   ],
   "source": [
    "# Tuple - khong the thay doi gia tri cua tuple \n",
    "t = (5, 6)\n",
    "print(type(t))\n",
    "t2 = t + (7, 8)\n",
    "print(t2, t2[0])\n",
    "# t2[0] = 4\n",
    "\n",
    "print(t)"
   ]
  },
  {
   "cell_type": "code",
   "execution_count": 10,
   "metadata": {},
   "outputs": [
    {
     "name": "stdout",
     "output_type": "stream",
     "text": [
      "Comfortable\n"
     ]
    }
   ],
   "source": [
    "temp = 60\n",
    "if temp > 100:\n",
    "    print(\"REALLY HOT\")\n",
    "elif temp > 85:\n",
    "    print(\"Hot\")\n",
    "elif temp >= 60:\n",
    "    print(\"Comfortable\")\n",
    "else:\n",
    "    print(\"Cold\")"
   ]
  },
  {
   "cell_type": "code",
   "execution_count": 11,
   "metadata": {},
   "outputs": [
    {
     "name": "stdout",
     "output_type": "stream",
     "text": [
      "cat\n",
      "dog\n",
      "monkey\n",
      "0, monkey\n",
      "1, dog\n",
      "2, cat\n"
     ]
    }
   ],
   "source": [
    "animals = ['cat', 'dog', 'monkey']\n",
    "for item in animals:\n",
    "    print(item)\n",
    "\n",
    "# use reversed lap tu duoi len \n",
    "for index, item in enumerate(reversed(animals)):\n",
    "    print(\"{}, {}\".format(index, item))"
   ]
  },
  {
   "cell_type": "code",
   "execution_count": 12,
   "metadata": {},
   "outputs": [
    {
     "name": "stdout",
     "output_type": "stream",
     "text": [
      "[0, 1, 4, 9, 16, 25]\n",
      "[0, 1, 4, 9, 16, 25]\n"
     ]
    }
   ],
   "source": [
    "nums = [0, 1, 2, 3, 4, 5]\n",
    "squares = []\n",
    "for item in nums:\n",
    "    squares.append(item ** 2)\n",
    "print(squares)\n",
    "\n",
    "squares_inline = [item ** 2 for item in nums]\n",
    "print(squares_inline)"
   ]
  },
  {
   "cell_type": "code",
   "execution_count": 13,
   "metadata": {},
   "outputs": [
    {
     "name": "stdout",
     "output_type": "stream",
     "text": [
      "8\n",
      "dict_keys(['fish', 'cat', 'spider']) ['fish', 'cat', 'spider']\n",
      "dict_values([0, 4, 8]) [0, 4, 8]\n",
      "A fish has 0 legs\n",
      "A cat has 4 legs\n",
      "A spider has 8 legs\n"
     ]
    }
   ],
   "source": [
    "d = {'fish': 0, 'cat': 4, 'spider': 8}\n",
    "\n",
    "# < keys, values, items >\n",
    "print(d['spider'])\n",
    "print(d.keys(), list(d.keys()))\n",
    "print(d.values(), list(d.values()))\n",
    "\n",
    "for animal, legs in d.items():\n",
    "    print(\"A %s has %d legs\" % (animal, legs))"
   ]
  },
  {
   "cell_type": "code",
   "execution_count": 14,
   "metadata": {},
   "outputs": [
    {
     "name": "stdout",
     "output_type": "stream",
     "text": [
      "{0: 0, 2: 4, 4: 16, 6: 36}\n"
     ]
    }
   ],
   "source": [
    "nums = [0, 1, 2, 3, 4, 5, 6]\n",
    "even_square = {x: x ** 2 for x in nums if x % 2 == 0}\n",
    "print(even_square)"
   ]
  },
  {
   "cell_type": "code",
   "execution_count": 15,
   "metadata": {},
   "outputs": [
    {
     "name": "stdout",
     "output_type": "stream",
     "text": [
      "Input: 0, Output: zero\n",
      "Input: 5, Output: positive\n",
      "Input: -1, Output: negative\n"
     ]
    }
   ],
   "source": [
    "def sign(x):\n",
    "    if x > 0: \n",
    "        return 'positive'\n",
    "    elif x < 0:\n",
    "        return 'negative'\n",
    "    else:\n",
    "        return 'zero'\n",
    "for x in [0, 5, -1]:\n",
    "    print(\"Input: {}, Output: {}\".format(x, sign(x)))"
   ]
  },
  {
   "cell_type": "code",
   "execution_count": 16,
   "metadata": {},
   "outputs": [
    {
     "name": "stdout",
     "output_type": "stream",
     "text": [
      "a =  1\n",
      "b =  2\n",
      "c =  alo\n",
      "----------\n",
      "a =  100\n",
      "b =  500\n",
      "c =  hello\n",
      "----------\n",
      "a =  100\n",
      "b =  200\n",
      "c =  hi\n",
      "----------\n"
     ]
    }
   ],
   "source": [
    "def func(a, b=2, c='hello'):\n",
    "    print('a = ', a)\n",
    "    print('b = ', b)\n",
    "    print('c = ', c)\n",
    "    print('----------')\n",
    "\n",
    "func(1,2,'alo')\n",
    "func(100, b=500)\n",
    "func(100, c='hi', b=200)"
   ]
  },
  {
   "cell_type": "code",
   "execution_count": 17,
   "metadata": {},
   "outputs": [
    {
     "name": "stdout",
     "output_type": "stream",
     "text": [
      "a + b = 3\n",
      "a + b = 510\n",
      "a + b = hello world\n",
      "a + b = hello100\n"
     ]
    }
   ],
   "source": [
    "def plus(a, b=2):\n",
    "    print('a + b =', a + b)\n",
    "\n",
    "plus(1)\n",
    "plus(10, b=500)\n",
    "plus('hello ', 'world')\n",
    "\n",
    "# Chu y: a + b\n",
    "plus('hello', str(100))"
   ]
  },
  {
   "cell_type": "code",
   "execution_count": 18,
   "metadata": {},
   "outputs": [
    {
     "name": "stdout",
     "output_type": "stream",
     "text": [
      "hello, AAA!\n",
      "HELLO, AAA!\n"
     ]
    }
   ],
   "source": [
    "class Greeter():\n",
    "    # Constructor\n",
    "    def __init__(self, name):\n",
    "        self.name = name # Create an instance variable\n",
    "    \n",
    "    # Instance method\n",
    "    def greet(self, loud=False):\n",
    "        if loud:\n",
    "            print('HELLO, {}!'.format(self.name))\n",
    "        else:\n",
    "            print('hello, {}!'.format(self.name))\n",
    "            \n",
    "    \n",
    "\n",
    "g = Greeter(\"AAA\")\n",
    "g.greet()\n",
    "g.greet(loud=True)"
   ]
  }
 ],
 "metadata": {
  "kernelspec": {
   "display_name": "Python 3",
   "language": "python",
   "name": "python3"
  },
  "language_info": {
   "codemirror_mode": {
    "name": "ipython",
    "version": 3
   },
   "file_extension": ".py",
   "mimetype": "text/x-python",
   "name": "python",
   "nbconvert_exporter": "python",
   "pygments_lexer": "ipython3",
   "version": "3.7.3"
  }
 },
 "nbformat": 4,
 "nbformat_minor": 2
}
