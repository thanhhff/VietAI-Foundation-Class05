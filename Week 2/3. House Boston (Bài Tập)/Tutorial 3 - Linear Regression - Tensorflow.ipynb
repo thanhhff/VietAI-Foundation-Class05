{
 "cells": [
  {
   "cell_type": "markdown",
   "metadata": {},
   "source": [
    "### II/ Tìm nghiệm bài toán bằng `TensorFlow`\n",
    "\n",
    "##### 1) (Full) batch gradient descent: đưa toàn bộ X và Y vào để train:\n",
    "\n",
    "Với cách 1, do đưa toàn bộ batch vào nên gradient ở mỗi vòng lặp ổn định. Cách này được khuyến khích sử dụng khi hàm cost của mình biết rõ là convex (không có nhiều hơn 1 điểm tối ưu cục bộ). Tuy nhiên, đối với những hàm phức tạp, thì cách 1 có thể ko bao giờ đạt tối ưu toàn cục được.\n",
    "\n",
    "##### 2) Stochastic gradient descent: đưa từng cặp (x, y) trong data X, Y vào để train :\n",
    "\n",
    "Đối với cách 2, do mình đưa vào từng cặp nên gradient ở mỗi vòng lặp sẽ rất nhiễu (noisy). Chính vì sự nhiễu này mà có trong qúa trình học, nó có thể giúp mô hình vượt qua được các điểm tối ưu cục bộ. Stochastic = random, thể hiện cho sự nhiễu.\n",
    "##### 3) Mini-batch gradient descent: bốc 1 lượng nhiều hơn 1 mẫu từ X, Y để train.\n",
    "\n",
    "Cách 3 là sự kết hợp giữa 1 và 2, cũng là cách dùng nhiều nhất trong deep learning. Trong các bài tới sẽ đề cập sau.\n",
    "\n",
    "Còn về bài tập thì thực ra hàm error của mình hoàn toàn convex nên dùng cách 1 hay 2 đều được. Nhưng cách 2 sẽ lâu hơn. Bạn có thể sửa code lại để kiểm tra thử."
   ]
  },
  {
   "cell_type": "markdown",
   "metadata": {},
   "source": [
    "#### Đưa dữ liệu vào"
   ]
  },
  {
   "cell_type": "code",
   "execution_count": 1,
   "metadata": {},
   "outputs": [
    {
     "name": "stdout",
     "output_type": "stream",
     "text": [
      "Selected original features are ['INDUS' 'RM']\n"
     ]
    }
   ],
   "source": [
    "from utils_function import load_Boston_housing_data\n",
    "import numpy as np\n",
    "\n",
    "train_X, test_X, train_Y, test_Y = load_Boston_housing_data(feature_ind = [2,5])"
   ]
  },
  {
   "cell_type": "markdown",
   "metadata": {},
   "source": [
    "#### Nhập thư viện"
   ]
  },
  {
   "cell_type": "code",
   "execution_count": 2,
   "metadata": {},
   "outputs": [],
   "source": [
    "import tensorflow as tf\n",
    "import tensorflow.contrib.eager as tfe\n",
    "tf.enable_eager_execution()"
   ]
  },
  {
   "cell_type": "markdown",
   "metadata": {},
   "source": [
    "#### Khai báo biến"
   ]
  },
  {
   "cell_type": "code",
   "execution_count": 3,
   "metadata": {},
   "outputs": [],
   "source": [
    "learning_rate = 0.008\n",
    "training_epochs = 10000\n",
    "display_step = 1000\n",
    "n_samples, dimension = train_X.shape\n",
    "batch_size = n_samples # Full Batch Gradient Descent"
   ]
  },
  {
   "cell_type": "code",
   "execution_count": 4,
   "metadata": {},
   "outputs": [
    {
     "data": {
      "text/plain": [
       "2"
      ]
     },
     "execution_count": 4,
     "metadata": {},
     "output_type": "execute_result"
    }
   ],
   "source": [
    "# train_Y\n",
    "n_samples\n",
    "dimension"
   ]
  },
  {
   "cell_type": "markdown",
   "metadata": {},
   "source": [
    "#### Bài 6. Khai báo"
   ]
  },
  {
   "cell_type": "code",
   "execution_count": 5,
   "metadata": {},
   "outputs": [
    {
     "name": "stdout",
     "output_type": "stream",
     "text": [
      "<tf.Variable 'Variable:0' shape=(2, 1) dtype=float64, numpy=\n",
      "array([[ 0.41643595],\n",
      "       [-0.66466924]])>\n",
      "<tf.Variable 'Variable:0' shape=(1, 1) dtype=float64, numpy=array([[-0.05706109]])>\n"
     ]
    }
   ],
   "source": [
    "# TODO: implement input and parameter for tensorflow.\n",
    "train_X = tf.constant(train_X, dtype=tf.float64)\n",
    "\n",
    "train_Y = tf.reshape(tensor=train_Y, shape=(-1, 1))\n",
    "train_Y = tf.constant(train_Y, dtype=tf.float64) # convert train_Y to tensor tf\n",
    "\n",
    "# Set model weights\n",
    "W = tfe.Variable(np.random.normal(size=(dimension, 1)), trainable=True) # create weights variable to train. size=(dimension, 1)\n",
    "b = tfe.Variable(np.random.normal(size=(1, 1)), trainable=True)\n",
    "print(W)\n",
    "print(b)"
   ]
  },
  {
   "cell_type": "markdown",
   "metadata": {},
   "source": [
    "#### Bài 7. Xây dựng mô hình hồi quy tuyến tính\n",
    "\n",
    "$$\\hat{y} = Xw + b $$"
   ]
  },
  {
   "cell_type": "code",
   "execution_count": 6,
   "metadata": {},
   "outputs": [],
   "source": [
    "#TODO: implement a linear regression function\n",
    "def tf_lr_hypothesis(X, W, b):\n",
    "    return tf.add(tf.matmul(X, W), b)"
   ]
  },
  {
   "cell_type": "markdown",
   "metadata": {},
   "source": [
    "#### Bài 8. Viết hàm cost\n",
    "$$\\mathcal{E}(\\hat{y}, y) = \\frac{1}{2N}\\|\\bf{\\hat{y}} - \\bf{y}\\|^2$$"
   ]
  },
  {
   "cell_type": "code",
   "execution_count": 7,
   "metadata": {},
   "outputs": [],
   "source": [
    "#TODO: implement a cost function\n",
    "def tf_mse_cost(Y_hat, Y):\n",
    "    return tf.reduce_mean(tf.square(Y_hat - Y) / 2)"
   ]
  },
  {
   "cell_type": "code",
   "execution_count": 8,
   "metadata": {},
   "outputs": [
    {
     "data": {
      "text/plain": [
       "404"
      ]
     },
     "execution_count": 8,
     "metadata": {},
     "output_type": "execute_result"
    }
   ],
   "source": [
    "len(train_Y)"
   ]
  },
  {
   "cell_type": "markdown",
   "metadata": {},
   "source": [
    "#### Bài 9. Viết hàm train"
   ]
  },
  {
   "cell_type": "code",
   "execution_count": 9,
   "metadata": {},
   "outputs": [],
   "source": [
    "#TODO: implemement GD\n",
    "optimizer = tf.train.GradientDescentOptimizer(learning_rate=learning_rate)"
   ]
  },
  {
   "cell_type": "markdown",
   "metadata": {},
   "source": [
    "#### Bài 10. Chạy chương trình"
   ]
  },
  {
   "cell_type": "code",
   "execution_count": 10,
   "metadata": {
    "scrolled": true
   },
   "outputs": [
    {
     "name": "stdout",
     "output_type": "stream",
     "text": [
      "Epoch: 1000 | Cost: 20.519338824496657\n",
      "Epoch: 2000 | Cost: 20.266030904847952\n",
      "Epoch: 3000 | Cost: 20.044522085010836\n",
      "Epoch: 4000 | Cost: 19.850820453677404\n",
      "Epoch: 5000 | Cost: 19.68143522554598\n",
      "Epoch: 6000 | Cost: 19.533313832289636\n",
      "Epoch: 7000 | Cost: 19.403786910832356\n",
      "Epoch: 8000 | Cost: 19.29052019754157\n",
      "Epoch: 9000 | Cost: 19.191472461400263\n",
      "Epoch: 10000 | Cost: 19.10485871805332\n"
     ]
    }
   ],
   "source": [
    "loss_history = []\n",
    "for epoch in range(training_epochs):\n",
    "    with tf.GradientTape() as tape:\n",
    "        Y_hat = tf_lr_hypothesis(train_X, W, b) # apply linear regression function here\n",
    "        mse_cost = tf_mse_cost(Y_hat, train_Y) # apply mse cost here.\n",
    "    grads = tape.gradient(mse_cost, [W, b])\n",
    "    optimizer.apply_gradients(zip(grads, [W, b]))\n",
    "    if (epoch + 1) % display_step == 0:\n",
    "        loss_history.append(mse_cost.numpy())\n",
    "        print(\"Epoch:\", epoch + 1, \"| Cost:\", mse_cost.numpy())"
   ]
  },
  {
   "cell_type": "code",
   "execution_count": 11,
   "metadata": {},
   "outputs": [
    {
     "data": {
      "image/png": "[encoded data removed]",
      "text/plain": [
       "<Figure size 432x288 with 1 Axes>"
      ]
     },
     "metadata": {
      "needs_background": "light"
     },
     "output_type": "display_data"
    }
   ],
   "source": [
    "import matplotlib.pyplot as plt\n",
    "\n",
    "plt.plot(loss_history[:])\n",
    "plt.show()"
   ]
  },
  {
   "cell_type": "code",
   "execution_count": null,
   "metadata": {},
   "outputs": [],
   "source": []
  }
 ],
 "metadata": {
  "kernelspec": {
   "display_name": "Python 3",
   "language": "python",
   "name": "python3"
  },
  "language_info": {
   "codemirror_mode": {
    "name": "ipython",
    "version": 3
   },
   "file_extension": ".py",
   "mimetype": "text/x-python",
   "name": "python",
   "nbconvert_exporter": "python",
   "pygments_lexer": "ipython3",
   "version": "3.7.3"
  }
 },
 "nbformat": 4,
 "nbformat_minor": 2
}
