{
 "cells": [
  {
   "cell_type": "markdown",
   "metadata": {},
   "source": [
    "![image.png](https://imgur.com/9Hg689V.png)"
   ]
  },
  {
   "cell_type": "markdown",
   "metadata": {},
   "source": [
    "$$P(L, K) = b * L^\\alpha * K^{(1 - \\alpha)}$$\n",
    "\n",
    "-> Lấy `Ln` 2 vế:\n",
    "\n",
    "$$ ln(P) = ln(b) + \\alpha * ln(L) + (1 - \\alpha) * ln(K) $$\n",
    "$$ ln(P) - ln(K) = ln(b) + \\alpha * ( ln(L) - ln(K) ) $$\n",
    "\n",
    "$$ y = b' + \\alpha * X $$ \n",
    "$$ b' = ln(b) $$"
   ]
  },
  {
   "cell_type": "markdown",
   "metadata": {},
   "source": [
    "#### Find `alpha` and `b`"
   ]
  },
  {
   "cell_type": "code",
   "execution_count": 1,
   "metadata": {},
   "outputs": [],
   "source": [
    "import pandas as pd\n",
    "import numpy as np\n",
    "import tensorflow as tf"
   ]
  },
  {
   "cell_type": "code",
   "execution_count": 2,
   "metadata": {},
   "outputs": [],
   "source": [
    "# Input data\n",
    "DataFrame = pd.read_excel('Cobb-Douglas.xls', header=None, skiprows=1)\n",
    "\n",
    "DataFrame = np.asarray(DataFrame[:])\n",
    "\n",
    "n = DataFrame.shape[0]"
   ]
  },
  {
   "cell_type": "code",
   "execution_count": 3,
   "metadata": {},
   "outputs": [],
   "source": [
    "# Mã hoá đầu vào sau khi lấy ln\n",
    "# X\n",
    "L = DataFrame[:, 2].reshape(n, )\n",
    "K = DataFrame[:, 3].reshape(n, )\n",
    "\n",
    "X = np.log(L) - np.log(K)\n",
    "X = X.reshape(n, -1)\n",
    "\n",
    "# y\n",
    "P = DataFrame[:, 1].reshape(n, )\n",
    "y = np.log(P) - np.log(K)"
   ]
  },
  {
   "cell_type": "code",
   "execution_count": 4,
   "metadata": {},
   "outputs": [],
   "source": [
    "# # Create random b and alpha\n",
    "# b = np.random.rand()\n",
    "\n",
    "# alpha = np.random.rand()\n",
    "# weight = np.array([np.log(b), alpha]).reshape(2, 1)"
   ]
  },
  {
   "cell_type": "code",
   "execution_count": 5,
   "metadata": {},
   "outputs": [],
   "source": [
    "# weight"
   ]
  },
  {
   "cell_type": "code",
   "execution_count": 6,
   "metadata": {},
   "outputs": [],
   "source": [
    "# Vecto hoa X\n",
    "ones = np.ones((X.shape[0], 1))\n",
    "X = np.concatenate((X, ones), axis = 1)"
   ]
  },
  {
   "cell_type": "markdown",
   "metadata": {},
   "source": [
    "### Cách 1: Tìm Theta bằng Normal Equation\n",
    " \n",
    "$$\\theta = \\left(X^{\\rm T}X\\right)^{-1} \\left(X^{\\rm T}y \\right) =  A * c $$"
   ]
  },
  {
   "cell_type": "code",
   "execution_count": 7,
   "metadata": {},
   "outputs": [],
   "source": [
    "def normal_equation(X, y):\n",
    "\n",
    "    A = np.dot(X.T, X)\n",
    "    c = np.dot(X.T, y)\n",
    "    \n",
    "    return np.dot(np.linalg.inv(A), c)"
   ]
  },
  {
   "cell_type": "code",
   "execution_count": 8,
   "metadata": {},
   "outputs": [
    {
     "data": {
      "text/plain": [
       "array([-1.49222933,  0.10811964])"
      ]
     },
     "execution_count": 8,
     "metadata": {},
     "output_type": "execute_result"
    }
   ],
   "source": [
    "W = normal_equation(X, y)\n",
    "W"
   ]
  },
  {
   "cell_type": "markdown",
   "metadata": {},
   "source": [
    "### Cách 2: Tìm Theta bằng Gradient "
   ]
  },
  {
   "cell_type": "markdown",
   "metadata": {},
   "source": [
    "#### Loss function\n",
    "\n",
    "$$\\mathcal{E}(\\hat{y}, y) = \\frac{1}{2N} \\sum_{i=1}^N (\\hat{y}^{(i)}-y^{(i)})^2 $$"
   ]
  },
  {
   "cell_type": "code",
   "execution_count": 9,
   "metadata": {},
   "outputs": [],
   "source": [
    "def loss_function(X, y, w):\n",
    "    y_hat = np.dot(X, w)\n",
    "    return np.sum((y_hat - y)**2) / (2.0 * n)"
   ]
  },
  {
   "cell_type": "markdown",
   "metadata": {},
   "source": [
    "#### Véc-tơ hóa hàm tính grad\n",
    "\n",
    "Với $i = 1...m $ và $j = 1...n$ xét\n",
    "\n",
    "$$ \\frac{\\partial \\mathcal{E}}{\\partial w_j} = \\frac{1}{N}\\sum_i x_j^{(i)}(\\hat{y}^{(i)}-y^{(i)}) $$"
   ]
  },
  {
   "cell_type": "code",
   "execution_count": 10,
   "metadata": {},
   "outputs": [],
   "source": [
    "def grad_function(weights, X, y):\n",
    "\n",
    "    N, D = X.shape\n",
    "    y_hat = np.dot(X, weights)\n",
    "    error = y_hat - y\n",
    "    \n",
    "    return np.dot(np.transpose(X), error) / float(N)"
   ]
  },
  {
   "cell_type": "markdown",
   "metadata": {},
   "source": [
    "#### Tính dựa trên Gradient Descent\n",
    "\n",
    "Xấp xỉ giá trị $\\theta$ như sau\n",
    "\n",
    "$$ \\hat{\\theta} := \\hat{\\theta} - \\alpha * \\left( h_\\theta(x^{(i)}) - y^{(i)} \\right)x_j^{(i)}$$"
   ]
  },
  {
   "cell_type": "code",
   "execution_count": 11,
   "metadata": {},
   "outputs": [],
   "source": [
    "loss_history = []\n",
    "\n",
    "def np_solve_via_gradient_descent(X, y, print_every=500,\n",
    "                               niter=5000, alpha=0.1):\n",
    "    '''\n",
    "    Given `X` - matrix of shape (N,D) of input features\n",
    "          `y` - target y values\n",
    "    Solves for linear regression weights.\n",
    "    Return weights after `niter` iterations.\n",
    "    '''\n",
    "    N, D = np.shape(X)\n",
    "    # initialize all the weights to zeros\n",
    "    w = np.zeros([D])\n",
    "    for k in range(niter):\n",
    "        \n",
    "        #TODO: Complete the below followed the above expressions\n",
    "        dw = grad_function(w, X, y)\n",
    "        w = w - alpha*dw\n",
    "        loss = loss_function(X, y, w)\n",
    "        loss_history.append(loss)\n",
    "        if k % print_every == 0:\n",
    "            print('Weight after %d iteration: %s' % (k, str(w)))\n",
    "    return w"
   ]
  },
  {
   "cell_type": "code",
   "execution_count": 12,
   "metadata": {},
   "outputs": [
    {
     "name": "stdout",
     "output_type": "stream",
     "text": [
      "Weight after 0 iteration: [-0.00441434  0.0279148 ]\n",
      "Weight after 500 iteration: [-0.5160736   0.22090572]\n",
      "Weight after 1000 iteration: [-0.83915572  0.18357647]\n",
      "Weight after 1500 iteration: [-1.05530608  0.15860222]\n",
      "Weight after 2000 iteration: [-1.19991629  0.1418938 ]\n",
      "Weight after 2500 iteration: [-1.2966643   0.13071544]\n",
      "Weight after 3000 iteration: [-1.36139123  0.12323682]\n",
      "Weight after 3500 iteration: [-1.40469523  0.11823343]\n",
      "Weight after 4000 iteration: [-1.43366674  0.11488603]\n",
      "Weight after 4500 iteration: [-1.45304943  0.11264653]\n"
     ]
    }
   ],
   "source": [
    "opt_w = np_solve_via_gradient_descent(X, y)"
   ]
  },
  {
   "cell_type": "code",
   "execution_count": 13,
   "metadata": {},
   "outputs": [
    {
     "data": {
      "text/plain": [
       "<Figure size 640x480 with 1 Axes>"
      ]
     },
     "metadata": {},
     "output_type": "display_data"
    }
   ],
   "source": [
    "import matplotlib.pyplot as plt\n",
    "\n",
    "plt.plot(loss_history[:])\n",
    "plt.show()"
   ]
  },
  {
   "cell_type": "markdown",
   "metadata": {},
   "source": [
    "### Dùng Tensorflow   \n",
    "\n",
    "$$ y = b' + \\alpha * X $$ \n",
    "$$ b' = ln(b) $$\n",
    "\n",
    "#### Find b' and alpha "
   ]
  },
  {
   "cell_type": "code",
   "execution_count": 14,
   "metadata": {},
   "outputs": [],
   "source": [
    "dimension = X.shape[1]\n",
    "learning_rate = 0.1\n",
    "lost_history = []\n",
    "training_epochs = 5000\n",
    "\n",
    "X_train = X\n",
    "y_train = np.asarray(y).reshape(-1, 1)"
   ]
  },
  {
   "cell_type": "code",
   "execution_count": 15,
   "metadata": {},
   "outputs": [],
   "source": [
    "# Placeholder for pass data\n",
    "X = tf.placeholder(tf.float32, [None, dimension])\n",
    "y = tf.placeholder(tf.float32, [None, 1])\n",
    "\n",
    "# Trainable weights\n",
    "w = tf.Variable(tf.ones([dimension, 1]))"
   ]
  },
  {
   "cell_type": "code",
   "execution_count": 16,
   "metadata": {},
   "outputs": [],
   "source": [
    "# Xây dựng mô hình hồi quy tuyến tính \n",
    "\n",
    "def tf_lr_hypothesis(X, w):\n",
    "    return tf.matmul(X, w)"
   ]
  },
  {
   "cell_type": "code",
   "execution_count": 17,
   "metadata": {},
   "outputs": [],
   "source": [
    "# Xây dựng hàm cost (loss)\n",
    "\n",
    "def tf_mse_cost(Y_hat, Y):\n",
    "    return tf.reduce_mean(tf.square(Y_hat - Y) / 2)\n",
    "\n",
    "Y_hat = tf_lr_hypothesis(X, w)\n",
    "loss = tf_mse_cost(Y_hat, y)"
   ]
  },
  {
   "cell_type": "code",
   "execution_count": 18,
   "metadata": {},
   "outputs": [],
   "source": [
    "# Viết hàm train \n",
    "optimizer = tf.train.GradientDescentOptimizer(learning_rate=learning_rate).minimize(loss)"
   ]
  },
  {
   "cell_type": "code",
   "execution_count": 19,
   "metadata": {},
   "outputs": [],
   "source": [
    "init = tf.global_variables_initializer()\n",
    "\n",
    "sess = tf.Session()"
   ]
  },
  {
   "cell_type": "code",
   "execution_count": 20,
   "metadata": {},
   "outputs": [
    {
     "name": "stdout",
     "output_type": "stream",
     "text": [
      "Epoch: 500 | Cost: 0.026590014\n",
      "Epoch: 1000 | Cost: 0.01998719\n",
      "Epoch: 1500 | Cost: 0.01703179\n",
      "Epoch: 2000 | Cost: 0.015708968\n",
      "Epoch: 2500 | Cost: 0.015116878\n",
      "Epoch: 3000 | Cost: 0.014851861\n",
      "Epoch: 3500 | Cost: 0.014733243\n",
      "Epoch: 4000 | Cost: 0.014680147\n",
      "Epoch: 4500 | Cost: 0.014656384\n",
      "Epoch: 5000 | Cost: 0.014645745\n"
     ]
    }
   ],
   "source": [
    "# Training\n",
    "\n",
    "sess.run(init)\n",
    "\n",
    "for epoch in range(training_epochs):\n",
    "    sess.run(optimizer, feed_dict={X: X_train, y: y_train})\n",
    "    \n",
    "    test_loss = sess.run(loss, feed_dict={X: X_train, y: y_train})\n",
    "    lost_history.append(test_loss)\n",
    "    \n",
    "    if (epoch + 1) % 500 == 0:\n",
    "        print(\"Epoch:\", epoch + 1, \"| Cost:\", test_loss)"
   ]
  },
  {
   "cell_type": "code",
   "execution_count": 21,
   "metadata": {},
   "outputs": [
    {
     "data": {
      "image/png": "[encoded data removed]",
      "text/plain": [
       "<Figure size 432x288 with 1 Axes>"
      ]
     },
     "metadata": {
      "needs_background": "light"
     },
     "output_type": "display_data"
    }
   ],
   "source": [
    "import matplotlib.pyplot as plt\n",
    "\n",
    "plt.plot(lost_history[:])\n",
    "plt.show()"
   ]
  },
  {
   "cell_type": "code",
   "execution_count": 22,
   "metadata": {},
   "outputs": [
    {
     "data": {
      "text/plain": [
       "array([[-1.4462192 ],\n",
       "       [ 0.11343569]], dtype=float32)"
      ]
     },
     "execution_count": 22,
     "metadata": {},
     "output_type": "execute_result"
    }
   ],
   "source": [
    "sess.run(w)"
   ]
  },
  {
   "cell_type": "code",
   "execution_count": null,
   "metadata": {},
   "outputs": [],
   "source": []
  }
 ],
 "metadata": {
  "kernelspec": {
   "display_name": "Python 3",
   "language": "python",
   "name": "python3"
  },
  "language_info": {
   "codemirror_mode": {
    "name": "ipython",
    "version": 3
   },
   "file_extension": ".py",
   "mimetype": "text/x-python",
   "name": "python",
   "nbconvert_exporter": "python",
   "pygments_lexer": "ipython3",
   "version": "3.7.3"
  }
 },
 "nbformat": 4,
 "nbformat_minor": 2
}
