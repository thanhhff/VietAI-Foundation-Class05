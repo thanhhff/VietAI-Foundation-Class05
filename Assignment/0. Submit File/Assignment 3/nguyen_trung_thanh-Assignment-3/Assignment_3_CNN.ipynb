{
 "cells": [
  {
   "cell_type": "markdown",
   "metadata": {
    "colab_type": "text",
    "id": "UuiKELEdT6MF"
   },
   "source": [
    "# Giới thiệu Convolution Nets\n",
    "\n",
    "Convolutional Neural Networks (CNN) là một trong những mô hình deep learning phổ biến nhất và có ảnh hưởng nhiều nhất trong cộng đồng Computer Vision. CNN được dùng trong nhiều bài toán như nhận dạng ảnh, phân tích video, ảnh MRI, hoặc cho các bài của lĩnh vực xử lý ngôn ngữ tự nhiên, và hầu hết đều giải quyết tốt các bài toán này. \n",
    "\n",
    "CNN cũng có lịch sử khá lâu đời. Kiến trúc gốc của mô hình CNN được giới thiệu bởi một nhà khoa học máy tính người Nhật vào năm 1980. Sau đó, năm 1998, Yan LeCun lần đầu huấn luyện mô hình CNN với thuật toán backpropagation cho bài toán nhận dạng chữ viết tay. Tuy nhiên, mãi đến năm 2012, khi một nhà khoa học máy tính người Ukraine Alex Krizhevsky (đệ của Geoffrey Hinton) xây dựng mô hình CNN (AlexNet) và sử dụng GPU để tăng tốc quá trình huấn luyện deep nets để đạt được top 1 trong cuộc thi Computer Vision thường niên ImageNet với độ lỗi phân lớp top 5 giảm hơn 10% so với những mô hình truyền thống trước đó, đã tạo nên làn sóng mãnh mẽ sử dụng deep CNN với sự hỗ trợ của GPU để giải quyết càng nhiều các vấn đề trong Computer Vision.\n",
    "\n",
    "# Bài Toán Phân loại Ảnh\n",
    "Phân loại ảnh là một bài toán quan trọng bậc nhất trong lĩnh vực Computer Vision. Chúng ta đã có rất nhiều nghiên cứu để giải quyết bài toán này bằng cách rút trích các đặc trưng rất phổ biến như SIFT, HOG rồi cho máy tính học nhưng những cách này tỏ ra không thực sự hiểu quả. Nhưng ngược lại, đối với con người, chúng ta lại có bản năng tuyệt vời để phân loại được những đối tượng trong khung cảnh xung quanh một cách dễ dàng.\n",
    "\n",
    "Dữ liệu đầu vào của bài toán là một bức ảnh. Một ảnh được biểu diễn bằng ma trận các giá trị. Mô hình phân lớp sẽ phải dự đoán được lớp của ảnh từ ma trận điểm ảnh này, ví dụ như ảnh đó là con mèo, chó, hay là chim.\n",
    "\n",
    "![](https://pbcquoc.github.io/images/cnn_input.png)\n",
    "\n",
    "# Nội dung \n",
    "Trong assignment này, mình sẽ hướng dẫn các bạn xây dựng mô hình CNN (Convolution Neural Nets) cho bài toán phân loại ảnh. Các bạn sẽ sử dụng tensorflow [eager execution](https://www.tensorflow.org/guide/eager) để xây dựng model, huấn luyện mô hình trên tập train và predict ảnh trong tập test. \n",
    "\n",
    "Assignment này sẽ có câú trúc như sau:\n",
    "1. Import/ Xử lý dữ liệu\n",
    "2. Xây dựng mô hình\n",
    "3. Huấn luyện mô hình\n",
    "4. Đánh giá mô hình\n",
    "5. Sử dụng mô hình đã huấn luyện để dự đoán và nộp kết quả lên Kaggle\n",
    "\n",
    "**Lưu ý: điểm xếp hạng trên Kaggle chỉ chiếm 30% số điểm, 70% số điểm còn lại sẽ chấm ở file notebook này**."
   ]
  },
  {
   "cell_type": "markdown",
   "metadata": {
    "colab_type": "text",
    "id": "1noDSEH2T6MG"
   },
   "source": [
    "# Import thư viện\n",
    "\n",
    "Chúng ta sử dụng một số hàm cơ bản trong tensorflow, sklearn và phải gọi hàm tf.enable_eager_execution. "
   ]
  },
  {
   "cell_type": "code",
   "execution_count": null,
   "metadata": {
    "colab": {},
    "colab_type": "code",
    "id": "lpEf76pvT6MH"
   },
   "outputs": [],
   "source": [
    "import os\n",
    "import numpy as np\n",
    "np.warnings.filterwarnings('ignore')\n",
    "os.environ['TF_CPP_MIN_LOG_LEVEL'] = '3' \n",
    "\n",
    "import pandas as pd\n",
    "from tqdm import tqdm\n",
    "\n",
    "from google_drive_downloader import GoogleDriveDownloader as gdd\n",
    "import matplotlib.pyplot as plt\n",
    "import tensorflow as tf\n",
    "from sklearn.model_selection import train_test_split\n",
    "from tensorflow.contrib.eager.python import tfe\n",
    "from PIL import Image\n",
    "\n",
    "tf.enable_eager_execution()\n",
    "tf.set_random_seed(0)\n",
    "np.random.seed(0)"
   ]
  },
  {
   "cell_type": "markdown",
   "metadata": {
    "colab_type": "text",
    "id": "E-drPZYqT6MK"
   },
   "source": [
    "# Import và inspect dữ liệu\n",
    "Trong bài này, các bạn phải xây dựng mô hình để xác định các địa danh nổi tiếng trên lãnh thổ Việt Nam được mô tả trong bức ảnh. Tập dữ liệu huấn luyện bao gồm 10 ngàn ảnh, là một phần nhỏ của bộ dữ liệu trong cuộc thi ZaloAI năm 2018. \n"
   ]
  },
  {
   "cell_type": "markdown",
   "metadata": {
    "colab_type": "text",
    "id": "6kFHSLe3T6ML"
   },
   "source": [
    "## Download dữ liệu\n",
    "Bạn có thể sử dụng trực tiếp dữ liệu trên competition được host trên Kaggle: [VietAI Foundation Course - CNN Assignment](https://www.kaggle.com/c/vietai-fc-cnn-assignment/data)\n",
    "\n",
    "Hoặc tải dữ liệu xuống từ Google Drive"
   ]
  },
  {
   "cell_type": "code",
   "execution_count": null,
   "metadata": {
    "colab": {
     "base_uri": "https://localhost:8080/",
     "height": 51
    },
    "colab_type": "code",
    "id": "TCiEHjzHT6ML",
    "outputId": "f1bf546d-357a-438d-cf35-ca96cf7a6f9b"
   },
   "outputs": [],
   "source": [
    "# gdd.download_file_from_google_drive(file_id='1ycR7Aexe8xbZ8oEDsQwGc9SIiFklRpfu', dest_path='./data.zip', unzip=True)"
   ]
  },
  {
   "cell_type": "markdown",
   "metadata": {
    "colab_type": "text",
    "id": "FQQFKcGLC1ZK"
   },
   "source": [
    "Dữ liệu tải xuống sẽ chứa trong folder `data`. Cấu trúc thư mục như sau:"
   ]
  },
  {
   "cell_type": "code",
   "execution_count": null,
   "metadata": {
    "colab": {
     "base_uri": "https://localhost:8080/",
     "height": 34
    },
    "colab_type": "code",
    "id": "6OgiAISfDBVD",
    "outputId": "b61959c2-b8a0-4b41-c48a-c4320009a3e1"
   },
   "outputs": [],
   "source": [
    "data_dir = 'data'\n",
    "os.listdir(data_dir)"
   ]
  },
  {
   "cell_type": "markdown",
   "metadata": {
    "colab_type": "text",
    "id": "pkHAl5onDQjs"
   },
   "source": [
    "Trong đó:\n",
    "- **images**: thư mục chứa tất cả các ảnh dùng cho việc huấn luyện và đánh giá\n",
    "- **train.csv**: file CSV chứa tên các file và nhãn dùng cho việc huấn luyện\n",
    "- **sample_submission.csv**: file CSV mẫu chứa tên các file cần đánh giá và nhãn dummy."
   ]
  },
  {
   "cell_type": "markdown",
   "metadata": {
    "colab_type": "text",
    "id": "Rg3f7Xn6EFC-"
   },
   "source": [
    "## Đọc và xử lý dữ liệu"
   ]
  },
  {
   "cell_type": "markdown",
   "metadata": {
    "colab_type": "text",
    "id": "NLFGYbfMWDQ7"
   },
   "source": [
    "Đọc dữ liệu từ file CSV:"
   ]
  },
  {
   "cell_type": "code",
   "execution_count": null,
   "metadata": {
    "colab": {
     "base_uri": "https://localhost:8080/",
     "height": 204
    },
    "colab_type": "code",
    "id": "MH__gPbQJSLV",
    "outputId": "3a7d32e4-a02c-4712-b81a-8ae4afe8849f"
   },
   "outputs": [],
   "source": [
    "train_df = pd.read_csv(os.path.join(data_dir, 'train.csv'))\n",
    "train_df.head()"
   ]
  },
  {
   "cell_type": "code",
   "execution_count": null,
   "metadata": {
    "colab": {
     "base_uri": "https://localhost:8080/",
     "height": 136
    },
    "colab_type": "code",
    "id": "WBRrzcibWMWa",
    "outputId": "88133e1a-2027-496a-ed8b-4ffc8937ba25"
   },
   "outputs": [],
   "source": [
    "train_df.info()"
   ]
  },
  {
   "cell_type": "code",
   "execution_count": null,
   "metadata": {
    "colab": {
     "base_uri": "https://localhost:8080/",
     "height": 204
    },
    "colab_type": "code",
    "id": "syh-kjLNbiQd",
    "outputId": "a9b2fec9-0d11-44b1-e870-e085b9e50683"
   },
   "outputs": [],
   "source": [
    "test_df = pd.read_csv(os.path.join(data_dir, 'sample_submission.csv'))\n",
    "test_df.head()"
   ]
  },
  {
   "cell_type": "code",
   "execution_count": null,
   "metadata": {
    "colab": {
     "base_uri": "https://localhost:8080/",
     "height": 136
    },
    "colab_type": "code",
    "id": "jzBkL72Sbpg_",
    "outputId": "2dd6a4c4-cf47-43d0-aaf2-c47c00619722"
   },
   "outputs": [],
   "source": [
    "test_df.info()"
   ]
  },
  {
   "cell_type": "markdown",
   "metadata": {
    "colab_type": "text",
    "id": "buXAweOvENiO"
   },
   "source": [
    "Tổng cộng có 8234 ảnh cho việc huấn luyện và 2059 ảnh cần dự đoán nhãn, ta tiến hành thống kê phân bố các nhãn trên tập huấn luyện:"
   ]
  },
  {
   "cell_type": "code",
   "execution_count": null,
   "metadata": {
    "colab": {
     "base_uri": "https://localhost:8080/",
     "height": 221
    },
    "colab_type": "code",
    "id": "lZPoB7-gV8C6",
    "outputId": "7987ff4a-5554-47d2-ec3e-210bfde45d15"
   },
   "outputs": [],
   "source": [
    "train_df.label.value_counts()"
   ]
  },
  {
   "cell_type": "markdown",
   "metadata": {
    "colab_type": "text",
    "id": "Bo0z1gUIVcmj"
   },
   "source": [
    "Số lượng các ảnh cho mỗi lớp từ 400 đến 2000. Trong đó lớp số 2 có số lượng ảnh nhiều nhất."
   ]
  },
  {
   "cell_type": "markdown",
   "metadata": {
    "colab_type": "text",
    "id": "TtOnhMO_W_0D"
   },
   "source": [
    "## TODO 1: Cài đặt hàm đọc ảnh và đưa về NumPy Array\n",
    "Để máy tính hiểu được các ảnh, chúng ta cần đọc và chuyển các ảnh về tensor. Bên cạnh đó, các tensor biểu diễn cần có kích thước cố định nên trong quá trình đọc ảnh, ta cần thay đổi về kích thước mong muốn (resize ảnh). Trong các bài toán về deep learning, ta thường biểu diễn ảnh dưới dạng tensor có kích thước `(224,224,3)` với 3 kênh màu, 224 pixels cho mỗi kênh.\n",
    "\n",
    "Hoàn thành hàm `generate_data` bên dưới nhận vào 1 list N đường dẫn đến ảnh và kích thước `size` ảnh cần resize. Trả về numpy array có kích thước `(N,size,size,3)` với các giá trị được normalized trong khoảng \\[0 ; 1\\]."
   ]
  },
  {
   "cell_type": "code",
   "execution_count": null,
   "metadata": {
    "colab": {},
    "colab_type": "code",
    "id": "AIHjhdzRZ8Z3"
   },
   "outputs": [],
   "source": [
    "def generate_data(image_paths, size=224):\n",
    "    \"\"\"\n",
    "    Đọc và chuyển các ảnh về numpy array\n",
    "    \n",
    "    Parameters\n",
    "    ----------\n",
    "    image_paths: list of N strings\n",
    "        List các đường dẫn ảnh\n",
    "    size: int\n",
    "        Kích thước ảnh cần resize\n",
    "    \n",
    "    Returns\n",
    "    -------\n",
    "    numpy array kích thước (N, size, size, 3)\n",
    "    \"\"\"\n",
    "    image_array = np.zeros((len(image_paths), size, size, 3), dtype='float32')\n",
    "\n",
    "    for idx, image_path in tqdm(enumerate(image_paths)):\n",
    "        ### START CODE HERE\n",
    "        # Đọc ảnh bằng thư viện Pillow và resize ảnh\n",
    "        image = Image.open(image_path)\n",
    "        image = image.resize((size, size), Image.ANTIALIAS) \n",
    "    \n",
    "        # Chuyển ảnh thành numpy array và gán lại mảng image_array\n",
    "        pixels = np.asarray(image)\n",
    "        \n",
    "        # convert from integers to floats\n",
    "        pixels = pixels.astype('float32')\n",
    "        pixels /= 255.\n",
    "        image_array[idx] = pixels\n",
    "        \n",
    "        ### END CODE HERE\n",
    "\n",
    "    return image_array"
   ]
  },
  {
   "cell_type": "markdown",
   "metadata": {
    "colab_type": "text",
    "id": "s9sI7QBibZdG"
   },
   "source": [
    "Sử dụng hàm `generate_data` để tạo ma trận của tập dữ liệu train và test:"
   ]
  },
  {
   "cell_type": "code",
   "execution_count": null,
   "metadata": {
    "colab": {
     "base_uri": "https://localhost:8080/",
     "height": 34
    },
    "colab_type": "code",
    "id": "X7UkA-_rbYzn",
    "outputId": "3e502fbf-7cc6-4e8e-cb40-2003d1d4f585"
   },
   "outputs": [],
   "source": [
    "# List các đường dẫn file cho việc huấn luyện\n",
    "train_files = [os.path.join(\"data/images\", file) for file in train_df.image]\n",
    "\n",
    "# List các nhãn\n",
    "train_y = train_df.label\n",
    "\n",
    "# Tạo numpy array cho dữ liệu huấn luyện\n",
    "train_arr = generate_data(train_files)"
   ]
  },
  {
   "cell_type": "markdown",
   "metadata": {
    "colab_type": "text",
    "id": "c9GkJ4Bfe2qc"
   },
   "source": [
    "Hãy kiểm tra kích thước của tensor `train_arr` vừa tạo ra. Kích thước đúng sẽ là `(8234,224,224,3)`."
   ]
  },
  {
   "cell_type": "code",
   "execution_count": null,
   "metadata": {
    "colab": {
     "base_uri": "https://localhost:8080/",
     "height": 34
    },
    "colab_type": "code",
    "id": "DxScb0w_e2Gh",
    "outputId": "9460d109-14a1-4c19-a45e-8f63e7980efa"
   },
   "outputs": [],
   "source": [
    "train_arr.shape"
   ]
  },
  {
   "cell_type": "markdown",
   "metadata": {
    "colab_type": "text",
    "id": "msp9WEgOfRdf"
   },
   "source": [
    "Tiến hành tạo tensor dữ liệu cho tập test:"
   ]
  },
  {
   "cell_type": "code",
   "execution_count": null,
   "metadata": {
    "colab": {
     "base_uri": "https://localhost:8080/",
     "height": 51
    },
    "colab_type": "code",
    "id": "0vI-AlLgfXi1",
    "outputId": "960a1892-104b-41ca-f712-f18775142351"
   },
   "outputs": [],
   "source": [
    "test_files = [os.path.join(\"data/images\", file) for file in test_df.image]\n",
    "test_x = generate_data(test_files)\n",
    "test_x.shape"
   ]
  },
  {
   "cell_type": "markdown",
   "metadata": {
    "colab_type": "text",
    "id": "LssbDy2pf9ua"
   },
   "source": [
    "Tạo **one-hot labels** từ `train_y` để đưa vào huấn luyện với Tensorflow. "
   ]
  },
  {
   "cell_type": "code",
   "execution_count": null,
   "metadata": {
    "colab": {},
    "colab_type": "code",
    "id": "iVuRanKET6MO"
   },
   "outputs": [],
   "source": [
    "num_classes = len(np.unique(train_y))\n",
    "y_ohe = tf.keras.utils.to_categorical(train_y, num_classes=num_classes)"
   ]
  },
  {
   "cell_type": "markdown",
   "metadata": {
    "colab_type": "text",
    "id": "vjpnYIXRT6MT"
   },
   "source": [
    "## Chia dữ liệu để huấn luyện và đánh giá\n",
    "\n",
    "Ta sẽ không sử dụng 100% tập dữ liệu đã có nhãn để huấn luyện mà sẽ chỉ huấn luyện trên 75% bộ dữ liệu và sử dụng 25% còn lại dùng để đánh giá model qua các epoch.\n",
    "\n",
    "Chúng ta sử dụng hàm `train_test_split` trong thư viện sklearn để chia tập dữ liệu thành 2 phần train/validation một cách nhanh chóng."
   ]
  },
  {
   "cell_type": "code",
   "execution_count": null,
   "metadata": {
    "colab": {
     "base_uri": "https://localhost:8080/",
     "height": 34
    },
    "colab_type": "code",
    "id": "MtnwiHOZT6MU",
    "outputId": "e954073e-2e8c-4f5d-8132-ba1d2b0a56af"
   },
   "outputs": [],
   "source": [
    "x_train, x_valid, y_train_ohe, y_valid_ohe = train_test_split(train_arr, y_ohe, test_size=0.25)\n",
    "\n",
    "print(\"Train size: {} - Validation size: {}\".format(x_train.shape, x_valid.shape))"
   ]
  },
  {
   "cell_type": "markdown",
   "metadata": {
    "colab_type": "text",
    "id": "06g6e_u7T6MY"
   },
   "source": [
    "## Mô Hình CNN\n",
    "\n",
    "CNN bao gồm tập hợp các lớp cơ bản sau: convolutional layer + nonlinear layer (RELU, ...), pooling layer, fully connected layer. Các lớp này liên kết với nhau theo một thứ tự nhất định. Thông thường, một ảnh sẽ được lan truyền qua tầng convolutional layer + nonlinear layer đầu tiên, sau đó các giá trị tính toán được sẽ lan truyền qua pooling layer, bộ ba convolutional layer + nonlinear layer + pooling layer có thể được lặp lại nhiều lần trong network. Và sau đó được lan truyền qua tầng fully connected layer và softmax để tính xác suất ảnh đó thuộc lớp nào.\n",
    "\n",
    "![](https://pbcquoc.github.io/images/cnn_model.png)\n",
    "\n",
    "### Convolutional Layer\n",
    "Convolutional layer thường là lớp đầu tiên và cũng là lớp quan trọng nhất của mô hình CNN. Lớp này có chức năng chính là phát hiện các đặc trưng về không gian một cách hiệu quả. Trong tầng này có 4 đối tượng chính là: ma trận đầu vào, bộ **filter**, và **receptive field**, **feature map**. Conv layer nhận đầu vào là một ma trận 3 chiều và một bộ filter cần phải học. Bộ filters này sẽ trượt qua từng vị trí trên bức ảnh để tính tích chập (convolution) giữa bộ filter và phần tương ứng trên bức ảnh. Phần tương ứng này trên bức ảnh gọi là receptive field, tức là vùng mà một neuron có thể nhìn thấy để đưa ra quyết định, và ma trận sinh ra bởi quá trình này được gọi là feature map. Để hình dung, các bạn có thể tưởng tượng, bộ filters giống như các tháp canh trong nhà tù quét lần lượt qua không gian xung quanh để tìm kiếm tên tù nhân bỏ trốn. Khi phát hiện tên tù nhân bỏ trốn, thì chuông báo động sẽ reo lên, giống như các bộ filters tìm kiếm được đặc trưng nhất định thì tích chập đó sẽ cho giá trị lớn. \n",
    "\n",
    "<div class=\"img-div\" markdown=\"0\">\n",
    "    <img src=\"https://media.giphy.com/media/3orif7it9f4phjv4LS/giphy.gif\" />\n",
    "</div>\n",
    "\n",
    "Với ví dụ ở bên dưới, dữ liệu đầu vào là ma trận có kích thước 8x8x1, một bộ filter có kích thước 2x2x1, feature map có kích thước 7x7x1. Mỗi giá trị ở feature map được tính bằng tổng của tích các phần tử tương ứng của bộ filter 2x2x1 với receptive field trên ảnh. Và để tính tất cả các giá trị cho feature map, các bạn cần trượt filter từ trái sang phải, từ trên xuống dưới. Do đó, các bạn có thể thấy rằng phép convolution bảo toàn thứ tự không gian của các điểm ảnh. Ví dụ điểm góc trái của dữ liệu đầu vào sẽ tương ứng với bên một điểm bên góc trái của feature map. \n",
    "\n",
    "<div class=\"img-div\" markdown=\"0\">\n",
    "    <img src=\"https://pbcquoc.github.io/images/cnn_covolution_layer.png\" />\n",
    "</div>\n",
    "\n",
    "#### Tầng convolution như là feature detector \n",
    "\n",
    "Tầng convolution có chức năng chính là phát hiện đặc trưng cụ thể của bức ảnh. Những đặc trưng này bao gồm đặc trưng cơ bản là góc, cạnh, màu sắc, hoặc đặc trưng phức tạp hơn như texture của ảnh. Vì bộ filter quét qua toàn bộ bức ảnh, nên những đặc trưng này có thể nằm ở vị trí bất kì trong bức ảnh, cho dù ảnh bị xoay trái/phải thì những đặc trưng này vẫn được phát hiện. \n",
    "\n",
    "Ở minh họa dưới, các bạn có một filter 5x5 dùng để phát hiện góc/cạnh, filter này chỉ có giá trị một tại các điểm tương ứng một góc cong. \n",
    "\n",
    "<div class=\"img-div\" markdown=\"0\">\n",
    "    <img src=\"https://pbcquoc.github.io/images/cnn_high_level_feature.png\" />\n",
    "</div>\n",
    "\n",
    "Dùng filter ở trên trượt qua ảnh của nhân vật Olaf trong trong bộ phim Frozen. Chúng ta thấy rằng, chỉ ở những vị trí trên bức ảnh có dạng góc như đặc trưng ở filter thì mới có giá trị lớn trên feature map, những vị trí còn lại sẽ cho giá trị thấp hơn. Điều này có nghĩa là, filter đã phát hiện thành công một dạng góc/cạnh trên dữ liệu đầu vào. Tập hợp nhiều bộ filters sẽ cho phép các bạn phát hiện được nhiều loại đặc trưng khác nhau, và giúp định danh được đối tượng. \n",
    "\n",
    "<div class=\"img-div\" markdown=\"0\">\n",
    "    <img src=\"https://pbcquoc.github.io/images/cnn_high_level_feature_ex.png\" />\n",
    "</div>\n",
    "\n",
    "#### Các tham số của tầng convolution: Kích thước bộ filters, stride và padding\n",
    "\n",
    "Kích thước bộ filters là một trong những siêu tham số quan trọng nhất của tầng convolution. Kích thước này tỉ lệ thuận với số lượng tham số cần học tại mỗi tầng convolution và là tham số quyết định receptive field của tầng này. Kích thước phổ biến nhất của bộ filter là 3x3.\n"
   ]
  },
  {
   "cell_type": "markdown",
   "metadata": {
    "colab_type": "text",
    "id": "D8v6bMpmQZwU"
   },
   "source": [
    "# Xây dựng mô hình\n",
    "Các bạn cần phải xây dựng mô hình CNN có kiến trúc sau đây. Bộ filter có kích thước 3x3. Đối với các tham số còn lại, các bạn có thể tự do lựa chọn để cho ra kết quả huấn luyện tốt nhất.\n",
    "\n",
    "![](https://github.com/pbcquoc/cnn/raw/master/images/cnn_architecture_2.png)\n"
   ]
  },
  {
   "cell_type": "markdown",
   "metadata": {
    "colab_type": "text",
    "id": "HCXKoRsNT6Ma"
   },
   "source": [
    "## Định nghĩa block CNN\n",
    "Để hỗ trợ quá trình định nghĩa mô hình. Các bạn cần định nghĩa một block bao gồm 3 lớp sau: Conv2D, MaxPool2D, ReLU. Block này sẽ được tái sử dụng nhiều lần trong networks. Các layers cần được khai báo trong hàm init và được gọi trong hàm call. Hãy tham khảo ví dụ dưới đây.\n",
    "\n",
    "```python\n",
    "\n",
    "class ConvBlock(tf.keras.Model):\n",
    "    def __init__(self):\n",
    "        super(ConvBlock, self).__init__()\n",
    "        self.cnn = tf.keras.layers.Conv2D(32, (3, 3), strides=(1, 1),  padding=\"same\")\n",
    "        \n",
    "    def call(self, inputs, training=None, mask=None):\n",
    "        x = self.cnn(inputs)\n",
    "\n",
    "        return x\n",
    "```\n",
    "\n",
    "Các tài liệu tham khảo:\n",
    "- [tf.keras.layers.Conv2D](https://www.tensorflow.org/api_docs/python/tf/keras/layers/Conv2D)\n",
    "- [tf.keras.layers.MaxPool2D](https://www.tensorflow.org/api_docs/python/tf/keras/layers/MaxPool2D)"
   ]
  },
  {
   "cell_type": "code",
   "execution_count": null,
   "metadata": {
    "colab": {},
    "colab_type": "code",
    "id": "GkT5hTxjT6Mb"
   },
   "outputs": [],
   "source": [
    "class ConvBlock(tf.keras.Model):\n",
    "    def __init__(self, filters, kernel, strides, padding):\n",
    "        '''\n",
    "        Khởi tạo Convolution Block với các tham số đầu vào\n",
    "        \n",
    "        Parameters\n",
    "        ----------\n",
    "        filters: int\n",
    "            số lượng filter\n",
    "        kernel: int\n",
    "            kích thước kernel\n",
    "        strides: int\n",
    "            stride của convolution layer\n",
    "        padding: str\n",
    "            Loại padding của convolution layer\n",
    "        \n",
    "        '''\n",
    "        \n",
    "        super(ConvBlock, self).__init__()\n",
    "        ## TODO 2\n",
    "        ### START CODE HERE\n",
    "        \n",
    "        # Tạo layer Conv2D\n",
    "        self.cnn = tf.keras.layers.Conv2D(filters=filters, kernel_size=kernel, strides=strides, padding=padding)\n",
    "        \n",
    "        # Tạo layer MaxPool2D\n",
    "        self.pool = tf.keras.layers.MaxPool2D(pool_size=(2, 2))\n",
    "        \n",
    "        # Tạo các layer khác tùy ý nếu cần thiết\n",
    "        self.skip = tf.keras.layers.Conv2D(filters=filters, kernel_size=(1,1), strides=strides, padding=padding)\n",
    "        \n",
    "        ### END CODE HERE\n",
    "        \n",
    "        \n",
    "    def call(self, inputs):\n",
    "        '''\n",
    "        Hàm này sẽ được gọi trong quá trình forwarding của mạng\n",
    "        \n",
    "        Parameters\n",
    "        ----------\n",
    "        inputs: tensor đầu vào\n",
    "        \n",
    "        Returns\n",
    "        -------\n",
    "        tensor\n",
    "            giá trị đầu ra của mạng\n",
    "        '''\n",
    "        \n",
    "        x = self.cnn(inputs)\n",
    "        # skip = self.skip(inputs)\n",
    "        ## TODO 3\n",
    "        ### START CODE HERE\n",
    "        \n",
    "        # Forward inputs qua từng layer và gán vào biến x để trả về\n",
    "        \n",
    "        x = tf.keras.activations.relu(x)\n",
    "        # x = tf.keras.layers.Add()([x, skip])\n",
    "        # x = tf.keras.activations.relu(x)\n",
    "        x = self.pool(x)\n",
    "        ## END CODE HERE\n",
    "\n",
    "        return x"
   ]
  },
  {
   "cell_type": "markdown",
   "metadata": {
    "colab_type": "text",
    "id": "D1avJ7wvxpFq"
   },
   "source": [
    "## Định nghĩa toàn bộ mô hình CNN\n",
    "Các bạn sử dụng block ở trên để định nghĩa toàn bộ mô hình CNN có kiến trúc như hình dưới. Các layer cần được khởi tạo trong hàm init, và được gọi trong hàm call."
   ]
  },
  {
   "cell_type": "code",
   "execution_count": null,
   "metadata": {
    "colab": {},
    "colab_type": "code",
    "id": "fn6w7oh-T6Md"
   },
   "outputs": [],
   "source": [
    "class CNN(tf.keras.Model):\n",
    "    def __init__(self, num_classes):\n",
    "        \n",
    "        super(CNN, self).__init__()\n",
    "        \n",
    "        ## TODO 4\n",
    "        ### START CODE HERE\n",
    "        \n",
    "        # Khởi tạo các convolution block\n",
    "        self.block1 = ConvBlock(filters=64, kernel=(7, 7), strides=2, padding=\"same\")\n",
    "        self.block2 = ConvBlock(filters=64, kernel=(3, 3), strides=1, padding=\"same\")\n",
    "        self.block3 = ConvBlock(filters=128, kernel=(3, 3), strides=1, padding=\"same\")\n",
    "        self.block4 = ConvBlock(filters=256, kernel=(3, 3), strides=1, padding=\"same\")\n",
    "        self.block5 = ConvBlock(filters=512, kernel=(3, 3), strides=1, padding=\"same\")\n",
    "        \n",
    "        # Khởi tạo layer để flatten feature map \n",
    "        self.flatten = tf.keras.layers.Flatten()\n",
    "        \n",
    "        ### END CODE HERE\n",
    "        \n",
    "        ## TODO 5\n",
    "        ### START CODE HERE\n",
    "        \n",
    "        # Khởi tạo fully connected layer\n",
    "        self.dense = tf.keras.layers.Dense(1000, kernel_regularizer=tf.keras.regularizers.l2(0.001) , activation='relu')\n",
    "        self.dense1 = tf.keras.layers.Dense(num_classes)\n",
    "        \n",
    "        ### END CODE HERE\n",
    "\n",
    "    def call(self, inputs):\n",
    "        \n",
    "        ## TODO 6\n",
    "        x = inputs\n",
    "        ### START CODE HERE\n",
    "        \n",
    "        # Forward gía trị inputs qua các tầng CNN và gán vào x\n",
    "        x = self.block1(x)\n",
    "        x = tf.keras.layers.Dropout(0.05)(x)\n",
    "        x = self.block2(x)\n",
    "        x = tf.keras.layers.Dropout(0.1)(x)\n",
    "        x = self.block3(x)\n",
    "        x = tf.keras.layers.Dropout(0.2)(x)\n",
    "        x = self.block4(x)\n",
    "        x = tf.keras.layers.Dropout(0.3)(x)\n",
    "        x = self.block5(x)\n",
    "\n",
    "        x = tf.keras.layers.AveragePooling2D(pool_size=(2, 2))(x)\n",
    "        ### END CODE HERE\n",
    "        \n",
    "        ## TODO 7\n",
    "        \n",
    "        ### START CODE HERE \n",
    "        \n",
    "        # Forward giá trị x qua Fully connected layer\n",
    "        x = self.flatten(x)\n",
    "        x = self.dense(x)\n",
    "        x = self.dense1(x)\n",
    "        \n",
    "        ### END CODE HERE\n",
    "        \n",
    "        # Để sử dụng hàm softmax, ta phải thực thi trên CPU\n",
    "        with tf.device('/cpu:0'):\n",
    "            output = tf.nn.softmax(x)\n",
    "\n",
    "        return output"
   ]
  },
  {
   "cell_type": "markdown",
   "metadata": {
    "colab_type": "text",
    "id": "K_jxGjdST6Mg"
   },
   "source": [
    "## TODO 2: Cài Đặt Block CNN trong lớp ConvBlock\n",
    "Sử dụng `tf.keras.layers.Conv2D` và `tf.keras.layers.MaxPool2D` để cài đặt tầng convolution và tầng pooling"
   ]
  },
  {
   "cell_type": "markdown",
   "metadata": {
    "colab_type": "text",
    "id": "_qngAyXgCt8B"
   },
   "source": [
    "## TODO 3: Gọi các tầng trong ConvBlock của lớp ConvBlock\n",
    "Hãy gọi các tầng đã cài đặt trọng lớp ConvBlock trong hàm call"
   ]
  },
  {
   "cell_type": "markdown",
   "metadata": {
    "colab_type": "text",
    "id": "6DN3gs3aT6Mg"
   },
   "source": [
    "## TODO 4: Khai báo ConvBlock 1,2,3,4,5 trong mô hình CNN\n",
    "Gọi ConvBlock đã cài đặt ở trên"
   ]
  },
  {
   "cell_type": "markdown",
   "metadata": {
    "colab_type": "text",
    "id": "Oj4C8OMZT6Mh"
   },
   "source": [
    "## TODO 5: Khai báo Tầng Fully Connected Layer cho mô hình CNN\n",
    "Gọi `tf.keras.layers.Dense` để cài đặt tầng này"
   ]
  },
  {
   "cell_type": "markdown",
   "metadata": {
    "colab_type": "text",
    "id": "qO-PkgqyT6Mj"
   },
   "source": [
    "## TODO 6: Gọi các tầng Conv đã khai báo trong mô hình CNN ở trên\n",
    "Gọi các tầng Conv đã cài đặt"
   ]
  },
  {
   "cell_type": "markdown",
   "metadata": {
    "colab_type": "text",
    "id": "CkbJdSYmT6Mk"
   },
   "source": [
    "## TODO 7: Gọi tầng Fully Connected Layer\n",
    "Hãy flatten tầng phía trước và gọi tầng fully connected layer để convert về ma trận có số chiều bằng số lớp cần phân loại"
   ]
  },
  {
   "cell_type": "markdown",
   "metadata": {
    "colab_type": "text",
    "id": "HeV9Ab03T6Mk"
   },
   "source": [
    "# Huấn Luyện\n",
    "Đoạn code này thực hiện quá trình huấn luyện mô hình CNN. Mỗi lần chạy mô hình sẽ lấy `batch_size` mẫu dữ liệu, feedforward, tính loss, và cập nhật gradient cho toàn bộ trọng số. Toàn bộ quá trình này được thực hiện trong hàm `fit()` được build sẵn trong model keras.\n",
    "\n",
    "Sau khi huấn luyện xong, chúng ta sẽ sử dụng mô hình để phân lớp các ảnh trong tập test bằng hàm `predict()`"
   ]
  },
  {
   "cell_type": "code",
   "execution_count": null,
   "metadata": {
    "colab": {},
    "colab_type": "code",
    "id": "5tmZonE2T6Ml"
   },
   "outputs": [],
   "source": [
    "device = '/cpu:0' if tfe.num_gpus() == 0 else '/gpu:0'\n",
    "batch_size = 32\n",
    "epochs = 16\n",
    "\n",
    "with tf.device(device):\n",
    "    # Khởi tạo model\n",
    "    model = CNN(num_classes)\n",
    "    \n",
    "    # Tạo callback để lưu model có accuracy trên tập validation tốt nhất\n",
    "    mcp = tf.keras.callbacks.ModelCheckpoint(\"my_model.h5\", monitor=\"val_acc\",\n",
    "                      save_best_only=True, save_weights_only=True)\n",
    "    \n",
    "    # Compile model\n",
    "    model.compile(optimizer=tf.train.AdamOptimizer(0.001), loss='categorical_crossentropy',\n",
    "                  metrics=['accuracy'])\n",
    "    \n",
    "    # Huấn luyện\n",
    "    model.fit(x_train, y_train_ohe, batch_size=batch_size, epochs=epochs,\n",
    "              validation_data=(x_valid, y_valid_ohe), verbose=1, callbacks=[mcp])\n"
   ]
  },
  {
   "cell_type": "markdown",
   "metadata": {
    "colab_type": "text",
    "id": "5p4QgrUJT6Mp"
   },
   "source": [
    "# Dự Đoán các ảnh trên tập test\n",
    "\n",
    "Chúng ta sử dụng mô hình đã được huấn luyện bên trên để dự đoán cho các ảnh trong tập test, xuất ra file CSV và submit kết quả lên Kaggle:\n",
    "\n",
    "[Link nộp kết quả](https://www.kaggle.com/c/vietai-fc-cnn-assignment/submissions)"
   ]
  },
  {
   "cell_type": "markdown",
   "metadata": {
    "colab_type": "text",
    "id": "np3O0GgN4s3n"
   },
   "source": [
    "## Tạo và load model đã lưu trước đó"
   ]
  },
  {
   "cell_type": "code",
   "execution_count": null,
   "metadata": {
    "colab": {},
    "colab_type": "code",
    "id": "VnnCTqhBT6Mq"
   },
   "outputs": [],
   "source": [
    "# Load best model\n",
    "model = CNN(num_classes)\n",
    "\n",
    "# Thiết lập kích thước input cho model\n",
    "dummy_x = tf.zeros((1, 224, 224, 3))\n",
    "model._set_inputs(dummy_x)\n",
    "\n",
    "# Load model đã lưu trước đó trong quá trình huấn luyện\n",
    "model.load_weights('my_model.h5')\n",
    "print(\"Model đã được load\")"
   ]
  },
  {
   "cell_type": "markdown",
   "metadata": {
    "colab_type": "text",
    "id": "QaMQvDMJ46Vs"
   },
   "source": [
    "## Dự đoán nhãn của các ảnh trên tập test"
   ]
  },
  {
   "cell_type": "markdown",
   "metadata": {
    "colab_type": "text",
    "id": "YLaGW2b55mqW"
   },
   "source": [
    "Sử dụng hàm predict để dự đoán:"
   ]
  },
  {
   "cell_type": "code",
   "execution_count": null,
   "metadata": {
    "colab": {},
    "colab_type": "code",
    "id": "TBl_-M0_T6Mt"
   },
   "outputs": [],
   "source": [
    "pred = model.predict(test_x)\n",
    "\n",
    "# pred là một ma trận xác suất của ảnh trên các lớp.\n",
    "# Ta lấy lớp có xác suất cao nhất trên từng ảnh bằng hàm argmax\n",
    "pred_labels = np.argmax(pred, axis=1)"
   ]
  },
  {
   "cell_type": "markdown",
   "metadata": {
    "colab_type": "text",
    "id": "ZqXMbQte5o7U"
   },
   "source": [
    "Hiển thị thử kết quả của tập test:"
   ]
  },
  {
   "cell_type": "code",
   "execution_count": null,
   "metadata": {
    "colab": {},
    "colab_type": "code",
    "id": "DhVAFRO3T6Nn"
   },
   "outputs": [],
   "source": [
    "test_df['label'] = pred_labels\n",
    "test_df.head(20)"
   ]
  },
  {
   "cell_type": "markdown",
   "metadata": {
    "colab_type": "text",
    "id": "QlJ9T6eN5u9n"
   },
   "source": [
    "Lưu kết quả thành file CSV:"
   ]
  },
  {
   "cell_type": "code",
   "execution_count": null,
   "metadata": {
    "colab": {},
    "colab_type": "code",
    "id": "wx7VJJnCozqu"
   },
   "outputs": [],
   "source": [
    "test_df.to_csv(\"submission.csv\", index=False)"
   ]
  },
  {
   "cell_type": "markdown",
   "metadata": {
    "colab_type": "text",
    "id": "YLo6SJb-AjWD"
   },
   "source": [
    "## Nộp kết quả lên Kaggle"
   ]
  },
  {
   "cell_type": "markdown",
   "metadata": {
    "colab_type": "text",
    "id": "u9oGE4zfA5J9"
   },
   "source": [
    "1. Truy cập vào [Kaggle](https://www.kaggle.com), đăng ký/ đăng nhập tài khoản.\n",
    "\n",
    "2. Truy cập vào đường dẫn của competition [VietAI Foundation Course - CNN Assignment](https://www.kaggle.com/t/1ca504e0910d4bfc9ba0ad0ffca12e2e).\n",
    "\n",
    "3. Nhấn vào nút **Join Competition**.\n",
    "![alt text](https://storage.googleapis.com/vietai/Screen%20Shot%202019-05-13%20at%2018.48.12.png)\n",
    "\n",
    "4. Nhấn vào nút **I Understand and Accept**.\n",
    "![alt text](https://storage.googleapis.com/vietai/Screen%20Shot%202019-05-13%20at%2018.48.52.png)\n",
    "\n",
    "5. Chọn **Team**.\n",
    "![alt text](https://storage.googleapis.com/vietai/Screen%20Shot%202019-05-13%20at%2018.49.43.png)\n",
    "\n",
    "6. Đặt team name theo đúng họ và tên của bạn và bấm **Save team name**.\n",
    "![alt text](https://storage.googleapis.com/vietai/Screen%20Shot%202019-05-13%20at%2018.50.30.png)\n",
    "\n",
    "7. Để nộp file CSV vừa tạo, các bạn nhấp vào **Submit Predictions**.\n",
    " ![alt text](https://storage.googleapis.com/vietai/Screen%20Shot%202019-05-13%20at%2018.51.39.png)\n",
    " \n",
    "8. Upload file CSV và nộp.\n",
    " ![alt text](https://storage.googleapis.com/vietai/Screen%20Shot%202019-05-13%20at%2018.52.19.png)\n",
    "\n",
    "9. Sau khi nộp, màn hình sẽ hiện ra kết quả, để biết vị trí mình trên leaderboard, các bạn nhấp vào **Jump to your position on the leaderboard**.\n",
    " ![alt text](https://storage.googleapis.com/vietai/Screen%20Shot%202019-05-13%20at%2018.55.23.png)\n",
    "\n",
    "10. Leaderboard sẽ như sau:\n",
    " ![alt text](https://storage.googleapis.com/vietai/Screen%20Shot%202019-05-13%20at%2018.55.32.png)"
   ]
  },
  {
   "cell_type": "markdown",
   "metadata": {
    "colab_type": "text",
    "id": "VB59gzvrksdZ"
   },
   "source": [
    "# Thang điểm\n",
    "\n",
    "- Hoàn tất codes trên Notebook: 7đ\n",
    "- Kaggle:\n",
    "  \n",
    "  + Vượt qua baseline1: 3đ\n",
    "  + Vượt qua baseline2: +1đ\n",
    "  + Vượt qua baseline3: +1đ"
   ]
  },
  {
   "cell_type": "markdown",
   "metadata": {
    "colab_type": "text",
    "id": "9v5Pu5JEQfnc"
   },
   "source": [
    "# Authors: Quoc Pham, Chuong Huynh"
   ]
  }
 ],
 "metadata": {
  "accelerator": "GPU",
  "colab": {
   "collapsed_sections": [
    "6DN3gs3aT6Mg",
    "Oj4C8OMZT6Mh",
    "qO-PkgqyT6Mj",
    "CkbJdSYmT6Mk"
   ],
   "name": "Assignment 3 - CNN.ipynb",
   "provenance": [],
   "toc_visible": true
  },
  "kernelspec": {
   "display_name": "Python 3",
   "language": "python",
   "name": "python3"
  },
  "language_info": {
   "codemirror_mode": {
    "name": "ipython",
    "version": 3
   },
   "file_extension": ".py",
   "mimetype": "text/x-python",
   "name": "python",
   "nbconvert_exporter": "python",
   "pygments_lexer": "ipython3",
   "version": "3.7.3"
  }
 },
 "nbformat": 4,
 "nbformat_minor": 1
}
