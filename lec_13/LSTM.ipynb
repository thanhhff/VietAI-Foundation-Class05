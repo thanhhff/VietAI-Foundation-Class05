{
 "cells": [
  {
   "cell_type": "code",
   "execution_count": 1,
   "metadata": {},
   "outputs": [],
   "source": [
    "import tensorflow as tf"
   ]
  },
  {
   "cell_type": "code",
   "execution_count": 3,
   "metadata": {},
   "outputs": [],
   "source": [
    "num_input = 3\n",
    "num_output = 2"
   ]
  },
  {
   "cell_type": "code",
   "execution_count": 6,
   "metadata": {},
   "outputs": [],
   "source": [
    "Wf = tf.placeholder(name=\"Wf\", shape=(num_input, num_output), dtype=tf.float32)\n",
    "Wi = tf.placeholder(name=\"Wi\", shape=(num_input, num_output), dtype=tf.float32)\n",
    "Wc = tf.placeholder(name=\"Wc\", shape=(num_input, num_output), dtype=tf.float32)\n",
    "Wo = tf.placeholder(name=\"Wo\", shape=(num_input, num_output), dtype=tf.float32)\n",
    "Uf = tf.placeholder(name=\"Uf\", shape=(num_output, num_output), dtype=tf.float32)\n",
    "Ui = tf.placeholder(name=\"Ui\", shape=(num_output, num_output), dtype=tf.float32)\n",
    "Uc = tf.placeholder(name=\"Uc\", shape=(num_output, num_output), dtype=tf.float32)\n",
    "Uo = tf.placeholder(name=\"Uo\", shape=(num_output, num_output), dtype=tf.float32)\n",
    "\n",
    "Hp = tf.placeholder(name=\"Hp\", shape=(1, num_output), dtype=tf.float32)\n",
    "Cp = tf.placeholder(name=\"Cp\", shape=(1, num_output), dtype=tf.float32)\n",
    "\n",
    "x = tf.placeholder(name=\"x\", shape=(1, num_input), dtype=tf.float32)"
   ]
  },
  {
   "cell_type": "code",
   "execution_count": 7,
   "metadata": {},
   "outputs": [],
   "source": [
    "f = tf.nn.sigmoid(tf.matmul(x, Wf) + tf.matmul(Hp, Uf))\n",
    "i = tf.nn.sigmoid(tf.matmul(x, Wi) + tf.matmul(Hp, Ui))\n",
    "o = tf.nn.sigmoid(tf.matmul(x, Wo) + tf.matmul(Hp, Uo))\n",
    "_c = tf.nn.tanh(tf.matmul(x, Wc) + tf.matmul(Hp, Uc))\n",
    "\n",
    "c = f * Cp + i * _c\n",
    "h = o * tf.nn.tanh(c)"
   ]
  },
  {
   "cell_type": "code",
   "execution_count": null,
   "metadata": {},
   "outputs": [],
   "source": [
    "h_summary = tf.summary.scalar(name='cost', tensor=h)\n",
    "\n",
    "with tf.Session() as sess:\n",
    "    \n",
    "    "
   ]
  }
 ],
 "metadata": {
  "kernelspec": {
   "display_name": "Python 3",
   "language": "python",
   "name": "python3"
  },
  "language_info": {
   "codemirror_mode": {
    "name": "ipython",
    "version": 3
   },
   "file_extension": ".py",
   "mimetype": "text/x-python",
   "name": "python",
   "nbconvert_exporter": "python",
   "pygments_lexer": "ipython3",
   "version": "3.6.7"
  }
 },
 "nbformat": 4,
 "nbformat_minor": 2
}
